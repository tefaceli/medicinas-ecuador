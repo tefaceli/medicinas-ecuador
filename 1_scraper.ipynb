{
 "cells": [
  {
   "cell_type": "markdown",
   "id": "057ca497-2e37-478f-8f9b-788530f46f2d",
   "metadata": {},
   "source": [
    "# Scraper of public procurement processes\n",
    "\n",
    "This notebook contains the scraper for all the procurement proceses for medicine in Ecuador, under the corporate purchase mechanism, launched in 2022.\n",
    "\n",
    "The webpage that has the data on all the contracts for medicine, which can be found [here](https://modulocomprascorporativas.compraspublicas.gob.ec/ProcesoContratacion/compras/PC/buscarProceso.cpe?sg=1#), only allows searches in 6 month periods, and has a captcha. This scraper allows to download all of the purchasing processes using Playwright and bs4, but filling the date and captcha mannually.\n",
    "\n",
    "Purchasing processes were launched in 2022 and 2023; there are no processes for 2024 and 2025."
   ]
  },
  {
   "cell_type": "code",
   "execution_count": 1,
   "id": "58a16308-8f67-4780-8076-d1b139afc2d1",
   "metadata": {},
   "outputs": [],
   "source": [
    "from playwright.async_api import async_playwright\n",
    "from bs4 import BeautifulSoup\n",
    "import pandas as pd\n",
    "import asyncio\n",
    "import os\n",
    "from datetime import datetime"
   ]
  },
  {
   "cell_type": "markdown",
   "id": "ea4d6bb7-67f4-48f7-bcf6-7c5ceaf4e094",
   "metadata": {},
   "source": [
    "## List of contracts\n",
    "\n",
    "First, I will run a scraper throught Sercop's website to get a list of procurement processes and a URL to each one of them."
   ]
  },
  {
   "cell_type": "code",
   "execution_count": 3,
   "id": "1ecc0170-dd7a-465d-b1df-1692f225e095",
   "metadata": {},
   "outputs": [
    {
     "data": {
      "text/plain": [
       "<Response url='https://modulocomprascorporativas.compraspublicas.gob.ec/ProcesoContratacion/compras/PC/buscarProceso.cpe?sg=1' request=<Request url='https://modulocomprascorporativas.compraspublicas.gob.ec/ProcesoContratacion/compras/PC/buscarProceso.cpe?sg=1' method='GET'>>"
      ]
     },
     "execution_count": 3,
     "metadata": {},
     "output_type": "execute_result"
    }
   ],
   "source": [
    "playwright = await async_playwright().start()\n",
    "browser = await playwright.chromium.launch(headless=False)\n",
    "page = await browser.new_page()\n",
    "await page.goto(\"https://modulocomprascorporativas.compraspublicas.gob.ec/ProcesoContratacion/compras/PC/buscarProceso.cpe?sg=1#\")"
   ]
  },
  {
   "cell_type": "code",
   "execution_count": 4,
   "id": "9d32299a-b029-4c19-b01c-2aecac361241",
   "metadata": {},
   "outputs": [
    {
     "name": "stdout",
     "output_type": "stream",
     "text": [
      "Scraping First 2022 — Waiting for dates and captcha manually\n"
     ]
    },
    {
     "name": "stdin",
     "output_type": "stream",
     "text": [
      "---- Press enter when completed \n"
     ]
    },
    {
     "name": "stdout",
     "output_type": "stream",
     "text": [
      "No 'Siguiente' button found — ending this semester\n",
      "Finished scraping for: First 2022\n",
      "Scraping Second 2022 — Waiting for dates and captcha manually\n"
     ]
    },
    {
     "name": "stdin",
     "output_type": "stream",
     "text": [
      "---- Press enter when completed \n"
     ]
    },
    {
     "name": "stdout",
     "output_type": "stream",
     "text": [
      "No 'Siguiente' button found — ending this semester\n",
      "Finished scraping for: Second 2022\n",
      "Scraping First 2023 — Waiting for dates and captcha manually\n"
     ]
    },
    {
     "name": "stdin",
     "output_type": "stream",
     "text": [
      "---- Press enter when completed \n"
     ]
    },
    {
     "name": "stdout",
     "output_type": "stream",
     "text": [
      "No 'Siguiente' button found — ending this semester\n",
      "Finished scraping for: First 2023\n",
      "Scraping Second 2023 — Waiting for dates and captcha manually\n"
     ]
    },
    {
     "name": "stdin",
     "output_type": "stream",
     "text": [
      "---- Press enter when completed \n"
     ]
    },
    {
     "name": "stdout",
     "output_type": "stream",
     "text": [
      "No 'Siguiente' button found — ending this semester\n",
      "Finished scraping for: Second 2023\n"
     ]
    }
   ],
   "source": [
    "all_rows = []\n",
    "\n",
    "semesters = [\n",
    "    (\"First 2022\", \"Waiting for dates and captcha manually\"),\n",
    "    (\"Second 2022\", \"Waiting for dates and captcha manually\"),\n",
    "    (\"First 2023\", \"Waiting for dates and captcha manually\"),\n",
    "    (\"Second 2023\", \"Waiting for dates and captcha manually\"),\n",
    "]\n",
    "\n",
    "for label, instruction in semesters:\n",
    "    print(f\"Scraping {label} — {instruction}\")\n",
    "    input(\"---- Press enter when completed\")\n",
    "\n",
    "    offset = 0\n",
    "\n",
    "    while True:\n",
    "        try:\n",
    "            await page.wait_for_selector(\"table\", timeout=10000)\n",
    "            html = await page.content()\n",
    "            soup = BeautifulSoup(html, \"lxml\")\n",
    "\n",
    "            rows = soup.select(\"table tr\")[1:]  # Skip header\n",
    "            for row in rows:\n",
    "                cols = row.find_all(\"td\")\n",
    "                if not cols or len(cols) < 7:\n",
    "                    continue\n",
    "                try:\n",
    "                    codigo = cols[0].text.strip()\n",
    "                    detalle_url = cols[0].find(\"a\")[\"href\"] if cols[0].find(\"a\") else None\n",
    "                    entidad = cols[1].text.strip()\n",
    "                    objeto = cols[2].text.strip()\n",
    "                    estado = cols[3].text.strip()\n",
    "                    ubicacion = cols[4].text.strip()\n",
    "                    presupuesto = cols[5].text.strip()\n",
    "                    fecha_publicacion = cols[6].text.strip()\n",
    "\n",
    "                    all_rows.append({\n",
    "                        \"codigo\": codigo,\n",
    "                        \"detalle_url\": detalle_url,\n",
    "                        \"entidad\": entidad,\n",
    "                        \"objeto\": objeto,\n",
    "                        \"estado\": estado,\n",
    "                        \"ubicacion\": ubicacion,\n",
    "                        \"presupuesto\": presupuesto,\n",
    "                        \"fecha_publicacion\": fecha_publicacion,\n",
    "                        \"semestre\": label\n",
    "                    })\n",
    "                except Exception as e:\n",
    "                    print(\"Error parsing row:\", e)\n",
    "\n",
    "            try:\n",
    "                siguiente_button = await page.query_selector(\"a:has-text('Siguiente')\")\n",
    "                if not siguiente_button:\n",
    "                    print(\"No 'Siguiente' button found — ending this semester\")\n",
    "                    break\n",
    "\n",
    "                offset += 20\n",
    "                await asyncio.sleep(2)\n",
    "                await page.evaluate(f\"presentarProcesos({offset})\")\n",
    "\n",
    "            except Exception as e:\n",
    "                print(\"Error checking or clicking 'Siguiente':\", e)\n",
    "                break\n",
    "\n",
    "        except Exception as e:\n",
    "            print(\"Unexpected error while scraping:\", e)\n",
    "            break\n",
    "\n",
    "    print(f\"Finished scraping for: {label}\")\n",
    "    await asyncio.sleep(5)"
   ]
  },
  {
   "cell_type": "code",
   "execution_count": 5,
   "id": "083ed273-5e48-4b10-9e45-f12ec9f2c73d",
   "metadata": {},
   "outputs": [
    {
     "data": {
      "text/plain": [
       "2692"
      ]
     },
     "execution_count": 5,
     "metadata": {},
     "output_type": "execute_result"
    }
   ],
   "source": [
    "df = pd.DataFrame(all_rows)\n",
    "len(df)"
   ]
  },
  {
   "cell_type": "code",
   "execution_count": 6,
   "id": "6257af9f-28f2-4095-8509-10701d6585ab",
   "metadata": {},
   "outputs": [
    {
     "data": {
      "text/html": [
       "<div>\n",
       "<style scoped>\n",
       "    .dataframe tbody tr th:only-of-type {\n",
       "        vertical-align: middle;\n",
       "    }\n",
       "\n",
       "    .dataframe tbody tr th {\n",
       "        vertical-align: top;\n",
       "    }\n",
       "\n",
       "    .dataframe thead th {\n",
       "        text-align: right;\n",
       "    }\n",
       "</style>\n",
       "<table border=\"1\" class=\"dataframe\">\n",
       "  <thead>\n",
       "    <tr style=\"text-align: right;\">\n",
       "      <th></th>\n",
       "      <th>codigo</th>\n",
       "      <th>detalle_url</th>\n",
       "      <th>entidad</th>\n",
       "      <th>objeto</th>\n",
       "      <th>estado</th>\n",
       "      <th>ubicacion</th>\n",
       "      <th>presupuesto</th>\n",
       "      <th>fecha_publicacion</th>\n",
       "      <th>semestre</th>\n",
       "    </tr>\n",
       "  </thead>\n",
       "  <tbody>\n",
       "    <tr>\n",
       "      <th>0</th>\n",
       "      <td></td>\n",
       "      <td>None</td>\n",
       "      <td>Entidad Contratante</td>\n",
       "      <td>Buscar Entidad</td>\n",
       "      <td></td>\n",
       "      <td>Buscar Entidad</td>\n",
       "      <td>Buscar Entidad</td>\n",
       "      <td>Buscar Entidad</td>\n",
       "      <td>First 2022</td>\n",
       "    </tr>\n",
       "    <tr>\n",
       "      <th>1</th>\n",
       "      <td></td>\n",
       "      <td>None</td>\n",
       "      <td>Por Fechas de Publicación (*)</td>\n",
       "      <td>Desde:  \\n      Hasta:</td>\n",
       "      <td>Desde:</td>\n",
       "      <td></td>\n",
       "      <td></td>\n",
       "      <td>Hasta:</td>\n",
       "      <td>First 2022</td>\n",
       "    </tr>\n",
       "    <tr>\n",
       "      <th>2</th>\n",
       "      <td></td>\n",
       "      <td>None</td>\n",
       "      <td></td>\n",
       "      <td></td>\n",
       "      <td></td>\n",
       "      <td></td>\n",
       "      <td></td>\n",
       "      <td></td>\n",
       "      <td>First 2022</td>\n",
       "    </tr>\n",
       "    <tr>\n",
       "      <th>3</th>\n",
       "      <td></td>\n",
       "      <td>None</td>\n",
       "      <td></td>\n",
       "      <td></td>\n",
       "      <td></td>\n",
       "      <td></td>\n",
       "      <td></td>\n",
       "      <td></td>\n",
       "      <td>First 2022</td>\n",
       "    </tr>\n",
       "    <tr>\n",
       "      <th>4</th>\n",
       "      <td></td>\n",
       "      <td>None</td>\n",
       "      <td></td>\n",
       "      <td></td>\n",
       "      <td></td>\n",
       "      <td></td>\n",
       "      <td></td>\n",
       "      <td></td>\n",
       "      <td>First 2022</td>\n",
       "    </tr>\n",
       "    <tr>\n",
       "      <th>5</th>\n",
       "      <td>Código</td>\n",
       "      <td>None</td>\n",
       "      <td>Entidad Contratante</td>\n",
       "      <td>Objeto del Proceso</td>\n",
       "      <td>Estado del Proceso</td>\n",
       "      <td>Provincia/Cantón</td>\n",
       "      <td>Presupuesto Referencial Unitario(sin iva)</td>\n",
       "      <td>Fecha de Publicación</td>\n",
       "      <td>First 2022</td>\n",
       "    </tr>\n",
       "    <tr>\n",
       "      <th>6</th>\n",
       "      <td>SICM-499-2022</td>\n",
       "      <td>informacionProcesoContratacion2.cpe?idSoliComp...</td>\n",
       "      <td>SERVICIO NACIONAL DE CONTRATACION PUBLICA</td>\n",
       "      <td>DCI: LEVONORGESTREL - FORMA FARMACÉUTICA: SÓLI...</td>\n",
       "      <td>Desierto</td>\n",
       "      <td>PICHINCHA / QUITO</td>\n",
       "      <td>$62.31600</td>\n",
       "      <td>2022-06-23 08:00:00</td>\n",
       "      <td>First 2022</td>\n",
       "    </tr>\n",
       "    <tr>\n",
       "      <th>7</th>\n",
       "      <td>SICM-514-2022</td>\n",
       "      <td>informacionProcesoContratacion2.cpe?idSoliComp...</td>\n",
       "      <td>SERVICIO NACIONAL DE CONTRATACION PUBLICA</td>\n",
       "      <td>DCI: PREDNISOLONA - FORMA FARMACÉUTICA: SÓLIDO...</td>\n",
       "      <td>Desierto</td>\n",
       "      <td>PICHINCHA / QUITO</td>\n",
       "      <td>$0.06000</td>\n",
       "      <td>2022-06-23 08:00:00</td>\n",
       "      <td>First 2022</td>\n",
       "    </tr>\n",
       "    <tr>\n",
       "      <th>8</th>\n",
       "      <td>SICM-500-2022</td>\n",
       "      <td>informacionProcesoContratacion2.cpe?idSoliComp...</td>\n",
       "      <td>SERVICIO NACIONAL DE CONTRATACION PUBLICA</td>\n",
       "      <td>DCI: LIDOCAÍNA SIN EPINEFRINA - FORMA FARMACÉU...</td>\n",
       "      <td>Adjudicado oferente ganador</td>\n",
       "      <td>PICHINCHA / QUITO</td>\n",
       "      <td>$5.00000</td>\n",
       "      <td>2022-06-23 08:00:00</td>\n",
       "      <td>First 2022</td>\n",
       "    </tr>\n",
       "    <tr>\n",
       "      <th>9</th>\n",
       "      <td>SICM-515-2022</td>\n",
       "      <td>informacionProcesoContratacion2.cpe?idSoliComp...</td>\n",
       "      <td>SERVICIO NACIONAL DE CONTRATACION PUBLICA</td>\n",
       "      <td>DCI: PROGESTERONA - FORMA FARMACÉUTICA: SÓLIDO...</td>\n",
       "      <td>Desierto</td>\n",
       "      <td>PICHINCHA / QUITO</td>\n",
       "      <td>$0.23000</td>\n",
       "      <td>2022-06-23 08:00:00</td>\n",
       "      <td>First 2022</td>\n",
       "    </tr>\n",
       "  </tbody>\n",
       "</table>\n",
       "</div>"
      ],
      "text/plain": [
       "          codigo                                        detalle_url  \\\n",
       "0                                                              None   \n",
       "1                                                              None   \n",
       "2                                                              None   \n",
       "3                                                              None   \n",
       "4                                                              None   \n",
       "5         Código                                               None   \n",
       "6  SICM-499-2022  informacionProcesoContratacion2.cpe?idSoliComp...   \n",
       "7  SICM-514-2022  informacionProcesoContratacion2.cpe?idSoliComp...   \n",
       "8  SICM-500-2022  informacionProcesoContratacion2.cpe?idSoliComp...   \n",
       "9  SICM-515-2022  informacionProcesoContratacion2.cpe?idSoliComp...   \n",
       "\n",
       "                                     entidad  \\\n",
       "0                        Entidad Contratante   \n",
       "1              Por Fechas de Publicación (*)   \n",
       "2                                              \n",
       "3                                              \n",
       "4                                              \n",
       "5                        Entidad Contratante   \n",
       "6  SERVICIO NACIONAL DE CONTRATACION PUBLICA   \n",
       "7  SERVICIO NACIONAL DE CONTRATACION PUBLICA   \n",
       "8  SERVICIO NACIONAL DE CONTRATACION PUBLICA   \n",
       "9  SERVICIO NACIONAL DE CONTRATACION PUBLICA   \n",
       "\n",
       "                                              objeto  \\\n",
       "0                                     Buscar Entidad   \n",
       "1                             Desde:  \\n      Hasta:   \n",
       "2                                                      \n",
       "3                                                      \n",
       "4                                                      \n",
       "5                                 Objeto del Proceso   \n",
       "6  DCI: LEVONORGESTREL - FORMA FARMACÉUTICA: SÓLI...   \n",
       "7  DCI: PREDNISOLONA - FORMA FARMACÉUTICA: SÓLIDO...   \n",
       "8  DCI: LIDOCAÍNA SIN EPINEFRINA - FORMA FARMACÉU...   \n",
       "9  DCI: PROGESTERONA - FORMA FARMACÉUTICA: SÓLIDO...   \n",
       "\n",
       "                        estado          ubicacion  \\\n",
       "0                                  Buscar Entidad   \n",
       "1                       Desde:                      \n",
       "2                                                   \n",
       "3                                                   \n",
       "4                                                   \n",
       "5           Estado del Proceso   Provincia/Cantón   \n",
       "6                     Desierto  PICHINCHA / QUITO   \n",
       "7                     Desierto  PICHINCHA / QUITO   \n",
       "8  Adjudicado oferente ganador  PICHINCHA / QUITO   \n",
       "9                     Desierto  PICHINCHA / QUITO   \n",
       "\n",
       "                                 presupuesto     fecha_publicacion    semestre  \n",
       "0                             Buscar Entidad        Buscar Entidad  First 2022  \n",
       "1                                                           Hasta:  First 2022  \n",
       "2                                                                   First 2022  \n",
       "3                                                                   First 2022  \n",
       "4                                                                   First 2022  \n",
       "5  Presupuesto Referencial Unitario(sin iva)  Fecha de Publicación  First 2022  \n",
       "6                                  $62.31600   2022-06-23 08:00:00  First 2022  \n",
       "7                                   $0.06000   2022-06-23 08:00:00  First 2022  \n",
       "8                                   $5.00000   2022-06-23 08:00:00  First 2022  \n",
       "9                                   $0.23000   2022-06-23 08:00:00  First 2022  "
      ]
     },
     "execution_count": 6,
     "metadata": {},
     "output_type": "execute_result"
    }
   ],
   "source": [
    "df.head(10)"
   ]
  },
  {
   "cell_type": "code",
   "execution_count": 7,
   "id": "61cee054-41c5-4028-b2e9-97cb049df302",
   "metadata": {},
   "outputs": [
    {
     "data": {
      "text/plain": [
       "detalle_url\n",
       "True     1706\n",
       "False     986\n",
       "Name: count, dtype: int64"
      ]
     },
     "execution_count": 7,
     "metadata": {},
     "output_type": "execute_result"
    }
   ],
   "source": [
    "df[\"detalle_url\"].isna().value_counts()"
   ]
  },
  {
   "cell_type": "code",
   "execution_count": 8,
   "id": "5abd1f3f-3b4c-4ca7-b004-5c9065bb9188",
   "metadata": {},
   "outputs": [
    {
     "data": {
      "text/plain": [
       "986"
      ]
     },
     "execution_count": 8,
     "metadata": {},
     "output_type": "execute_result"
    }
   ],
   "source": [
    "df = df[df[\"detalle_url\"].notna()]\n",
    "len(df)"
   ]
  },
  {
   "cell_type": "code",
   "execution_count": 10,
   "id": "364ec66b-70cd-4d19-8ec3-9742a8cc641a",
   "metadata": {},
   "outputs": [
    {
     "data": {
      "text/html": [
       "<div>\n",
       "<style scoped>\n",
       "    .dataframe tbody tr th:only-of-type {\n",
       "        vertical-align: middle;\n",
       "    }\n",
       "\n",
       "    .dataframe tbody tr th {\n",
       "        vertical-align: top;\n",
       "    }\n",
       "\n",
       "    .dataframe thead th {\n",
       "        text-align: right;\n",
       "    }\n",
       "</style>\n",
       "<table border=\"1\" class=\"dataframe\">\n",
       "  <thead>\n",
       "    <tr style=\"text-align: right;\">\n",
       "      <th></th>\n",
       "      <th>codigo</th>\n",
       "      <th>detalle_url</th>\n",
       "      <th>entidad</th>\n",
       "      <th>objeto</th>\n",
       "      <th>estado</th>\n",
       "      <th>ubicacion</th>\n",
       "      <th>presupuesto</th>\n",
       "      <th>fecha_publicacion</th>\n",
       "      <th>semestre</th>\n",
       "    </tr>\n",
       "  </thead>\n",
       "  <tbody>\n",
       "    <tr>\n",
       "      <th>6</th>\n",
       "      <td>SICM-499-2022</td>\n",
       "      <td>informacionProcesoContratacion2.cpe?idSoliComp...</td>\n",
       "      <td>SERVICIO NACIONAL DE CONTRATACION PUBLICA</td>\n",
       "      <td>DCI: LEVONORGESTREL - FORMA FARMACÉUTICA: SÓLI...</td>\n",
       "      <td>Desierto</td>\n",
       "      <td>PICHINCHA / QUITO</td>\n",
       "      <td>$62.31600</td>\n",
       "      <td>2022-06-23 08:00:00</td>\n",
       "      <td>First 2022</td>\n",
       "    </tr>\n",
       "    <tr>\n",
       "      <th>7</th>\n",
       "      <td>SICM-514-2022</td>\n",
       "      <td>informacionProcesoContratacion2.cpe?idSoliComp...</td>\n",
       "      <td>SERVICIO NACIONAL DE CONTRATACION PUBLICA</td>\n",
       "      <td>DCI: PREDNISOLONA - FORMA FARMACÉUTICA: SÓLIDO...</td>\n",
       "      <td>Desierto</td>\n",
       "      <td>PICHINCHA / QUITO</td>\n",
       "      <td>$0.06000</td>\n",
       "      <td>2022-06-23 08:00:00</td>\n",
       "      <td>First 2022</td>\n",
       "    </tr>\n",
       "    <tr>\n",
       "      <th>8</th>\n",
       "      <td>SICM-500-2022</td>\n",
       "      <td>informacionProcesoContratacion2.cpe?idSoliComp...</td>\n",
       "      <td>SERVICIO NACIONAL DE CONTRATACION PUBLICA</td>\n",
       "      <td>DCI: LIDOCAÍNA SIN EPINEFRINA - FORMA FARMACÉU...</td>\n",
       "      <td>Adjudicado oferente ganador</td>\n",
       "      <td>PICHINCHA / QUITO</td>\n",
       "      <td>$5.00000</td>\n",
       "      <td>2022-06-23 08:00:00</td>\n",
       "      <td>First 2022</td>\n",
       "    </tr>\n",
       "    <tr>\n",
       "      <th>9</th>\n",
       "      <td>SICM-515-2022</td>\n",
       "      <td>informacionProcesoContratacion2.cpe?idSoliComp...</td>\n",
       "      <td>SERVICIO NACIONAL DE CONTRATACION PUBLICA</td>\n",
       "      <td>DCI: PROGESTERONA - FORMA FARMACÉUTICA: SÓLIDO...</td>\n",
       "      <td>Desierto</td>\n",
       "      <td>PICHINCHA / QUITO</td>\n",
       "      <td>$0.23000</td>\n",
       "      <td>2022-06-23 08:00:00</td>\n",
       "      <td>First 2022</td>\n",
       "    </tr>\n",
       "    <tr>\n",
       "      <th>10</th>\n",
       "      <td>SICM-516-2022</td>\n",
       "      <td>informacionProcesoContratacion2.cpe?idSoliComp...</td>\n",
       "      <td>SERVICIO NACIONAL DE CONTRATACION PUBLICA</td>\n",
       "      <td>DCI: RITUXIMAB - FORMA FARMACÉUTICA: LÍQUIDO P...</td>\n",
       "      <td>Desierto</td>\n",
       "      <td>PICHINCHA / QUITO</td>\n",
       "      <td>$1406.37000</td>\n",
       "      <td>2022-06-23 08:00:00</td>\n",
       "      <td>First 2022</td>\n",
       "    </tr>\n",
       "  </tbody>\n",
       "</table>\n",
       "</div>"
      ],
      "text/plain": [
       "           codigo                                        detalle_url  \\\n",
       "6   SICM-499-2022  informacionProcesoContratacion2.cpe?idSoliComp...   \n",
       "7   SICM-514-2022  informacionProcesoContratacion2.cpe?idSoliComp...   \n",
       "8   SICM-500-2022  informacionProcesoContratacion2.cpe?idSoliComp...   \n",
       "9   SICM-515-2022  informacionProcesoContratacion2.cpe?idSoliComp...   \n",
       "10  SICM-516-2022  informacionProcesoContratacion2.cpe?idSoliComp...   \n",
       "\n",
       "                                      entidad  \\\n",
       "6   SERVICIO NACIONAL DE CONTRATACION PUBLICA   \n",
       "7   SERVICIO NACIONAL DE CONTRATACION PUBLICA   \n",
       "8   SERVICIO NACIONAL DE CONTRATACION PUBLICA   \n",
       "9   SERVICIO NACIONAL DE CONTRATACION PUBLICA   \n",
       "10  SERVICIO NACIONAL DE CONTRATACION PUBLICA   \n",
       "\n",
       "                                               objeto  \\\n",
       "6   DCI: LEVONORGESTREL - FORMA FARMACÉUTICA: SÓLI...   \n",
       "7   DCI: PREDNISOLONA - FORMA FARMACÉUTICA: SÓLIDO...   \n",
       "8   DCI: LIDOCAÍNA SIN EPINEFRINA - FORMA FARMACÉU...   \n",
       "9   DCI: PROGESTERONA - FORMA FARMACÉUTICA: SÓLIDO...   \n",
       "10  DCI: RITUXIMAB - FORMA FARMACÉUTICA: LÍQUIDO P...   \n",
       "\n",
       "                         estado          ubicacion  presupuesto  \\\n",
       "6                      Desierto  PICHINCHA / QUITO    $62.31600   \n",
       "7                      Desierto  PICHINCHA / QUITO     $0.06000   \n",
       "8   Adjudicado oferente ganador  PICHINCHA / QUITO     $5.00000   \n",
       "9                      Desierto  PICHINCHA / QUITO     $0.23000   \n",
       "10                     Desierto  PICHINCHA / QUITO  $1406.37000   \n",
       "\n",
       "      fecha_publicacion    semestre  \n",
       "6   2022-06-23 08:00:00  First 2022  \n",
       "7   2022-06-23 08:00:00  First 2022  \n",
       "8   2022-06-23 08:00:00  First 2022  \n",
       "9   2022-06-23 08:00:00  First 2022  \n",
       "10  2022-06-23 08:00:00  First 2022  "
      ]
     },
     "execution_count": 10,
     "metadata": {},
     "output_type": "execute_result"
    }
   ],
   "source": [
    "df.head()"
   ]
  },
  {
   "cell_type": "code",
   "execution_count": 11,
   "id": "59d5b29b-d025-4df7-b570-12bb8ef27d6e",
   "metadata": {},
   "outputs": [],
   "source": [
    "base_url = \"https://modulocomprascorporativas.compraspublicas.gob.ec/ProcesoContratacion/compras/PC/\"\n",
    "df[\"detalle_url\"] = base_url + df[\"detalle_url\"].astype(str)"
   ]
  },
  {
   "cell_type": "code",
   "execution_count": 12,
   "id": "fc0c034a-b28e-4460-87ef-9fe8c1308a70",
   "metadata": {},
   "outputs": [
    {
     "data": {
      "text/html": [
       "<div>\n",
       "<style scoped>\n",
       "    .dataframe tbody tr th:only-of-type {\n",
       "        vertical-align: middle;\n",
       "    }\n",
       "\n",
       "    .dataframe tbody tr th {\n",
       "        vertical-align: top;\n",
       "    }\n",
       "\n",
       "    .dataframe thead th {\n",
       "        text-align: right;\n",
       "    }\n",
       "</style>\n",
       "<table border=\"1\" class=\"dataframe\">\n",
       "  <thead>\n",
       "    <tr style=\"text-align: right;\">\n",
       "      <th></th>\n",
       "      <th>codigo</th>\n",
       "      <th>detalle_url</th>\n",
       "      <th>entidad</th>\n",
       "      <th>objeto</th>\n",
       "      <th>estado</th>\n",
       "      <th>ubicacion</th>\n",
       "      <th>presupuesto</th>\n",
       "      <th>fecha_publicacion</th>\n",
       "      <th>semestre</th>\n",
       "    </tr>\n",
       "  </thead>\n",
       "  <tbody>\n",
       "    <tr>\n",
       "      <th>6</th>\n",
       "      <td>SICM-499-2022</td>\n",
       "      <td>https://modulocomprascorporativas.compraspubli...</td>\n",
       "      <td>SERVICIO NACIONAL DE CONTRATACION PUBLICA</td>\n",
       "      <td>DCI: LEVONORGESTREL - FORMA FARMACÉUTICA: SÓLI...</td>\n",
       "      <td>Desierto</td>\n",
       "      <td>PICHINCHA / QUITO</td>\n",
       "      <td>$62.31600</td>\n",
       "      <td>2022-06-23 08:00:00</td>\n",
       "      <td>First 2022</td>\n",
       "    </tr>\n",
       "  </tbody>\n",
       "</table>\n",
       "</div>"
      ],
      "text/plain": [
       "          codigo                                        detalle_url  \\\n",
       "6  SICM-499-2022  https://modulocomprascorporativas.compraspubli...   \n",
       "\n",
       "                                     entidad  \\\n",
       "6  SERVICIO NACIONAL DE CONTRATACION PUBLICA   \n",
       "\n",
       "                                              objeto    estado  \\\n",
       "6  DCI: LEVONORGESTREL - FORMA FARMACÉUTICA: SÓLI...  Desierto   \n",
       "\n",
       "           ubicacion presupuesto    fecha_publicacion    semestre  \n",
       "6  PICHINCHA / QUITO   $62.31600  2022-06-23 08:00:00  First 2022  "
      ]
     },
     "execution_count": 12,
     "metadata": {},
     "output_type": "execute_result"
    }
   ],
   "source": [
    "df.head(1)"
   ]
  },
  {
   "cell_type": "code",
   "execution_count": 13,
   "id": "098572f3-f00c-40ec-a0a5-4ce20ada6114",
   "metadata": {},
   "outputs": [
    {
     "data": {
      "text/plain": [
       "986"
      ]
     },
     "execution_count": 13,
     "metadata": {},
     "output_type": "execute_result"
    }
   ],
   "source": [
    "len(df)"
   ]
  },
  {
   "cell_type": "code",
   "execution_count": 16,
   "id": "9f78aed1-b66e-45d0-a5d1-7bc57c12dba3",
   "metadata": {},
   "outputs": [],
   "source": [
    "now = datetime.now()\n",
    "timestamp = now.strftime(\"%Y-%m-%d_%H-%M\")\n",
    "filename = f\"scraped_results_{timestamp}.csv\""
   ]
  },
  {
   "cell_type": "code",
   "execution_count": 17,
   "id": "906735ce-4640-4d83-ba60-96b65f48e275",
   "metadata": {},
   "outputs": [
    {
     "name": "stdout",
     "output_type": "stream",
     "text": [
      "scraped_results_2025-07-09_12-47.csv\n"
     ]
    }
   ],
   "source": [
    "print(filename)"
   ]
  },
  {
   "cell_type": "code",
   "execution_count": 76,
   "id": "3c904bae-550a-4dd9-9568-73c6d48fa34d",
   "metadata": {},
   "outputs": [],
   "source": [
    "os.makedirs('data/', exist_ok=True)\n",
    "os.makedirs(\"data/raw\", exist_ok=True)"
   ]
  },
  {
   "cell_type": "code",
   "execution_count": 79,
   "id": "707e3076-3d0f-4cce-980b-a847e6aeb1e8",
   "metadata": {},
   "outputs": [],
   "source": [
    "df.to_csv(f\"data/raw/{filename}\", index=False)"
   ]
  },
  {
   "cell_type": "markdown",
   "id": "b3fbfd35-27d5-4260-b0bf-1122c64d9e26",
   "metadata": {},
   "source": [
    "## Details on each contract\n",
    "\n",
    "Now I will scrape the details on each procurement process, by looping through each URL and getting the details about each one. For those contracts that are awarded (\"adjudicado\"), I will also get the data on the company that got the award."
   ]
  },
  {
   "cell_type": "code",
   "execution_count": 2,
   "id": "042fa777-083e-4359-90f5-e7a92211f8d0",
   "metadata": {},
   "outputs": [],
   "source": [
    "df = pd.read_csv(\"data/scraped_results_2025-07-09_12-47.csv\")"
   ]
  },
  {
   "cell_type": "code",
   "execution_count": 3,
   "id": "0d697e6a-087c-43ca-bb75-b35fc69ff57d",
   "metadata": {},
   "outputs": [],
   "source": [
    "url = df[\"detalle_url\"][1]\n",
    "user_agent = \"Mozilla/5.0 (Windows NT 10.0; Win64; x64) AppleWebKit/537.36 (KHTML, like Gecko) Chrome/123.0.0.0 Safari/537.36\""
   ]
  },
  {
   "cell_type": "code",
   "execution_count": 4,
   "id": "48dcc6b2-c1fd-47a6-8be4-a26fd83993fa",
   "metadata": {},
   "outputs": [
    {
     "data": {
      "text/plain": [
       "<Response url='https://modulocomprascorporativas.compraspublicas.gob.ec/ProcesoContratacion/compras/PC/informacionProcesoContratacion2.cpe?idSoliCompra=JD66Gdou-LQnI0nGPoE0wKiirN5WPYwr_xSJ3h1_dAk,' request=<Request url='https://modulocomprascorporativas.compraspublicas.gob.ec/ProcesoContratacion/compras/PC/informacionProcesoContratacion2.cpe?idSoliCompra=JD66Gdou-LQnI0nGPoE0wKiirN5WPYwr_xSJ3h1_dAk,' method='GET'>>"
      ]
     },
     "execution_count": 4,
     "metadata": {},
     "output_type": "execute_result"
    }
   ],
   "source": [
    "playwright = await async_playwright().start()\n",
    "browser = await playwright.chromium.launch(headless=False)\n",
    "page = await browser.new_page(user_agent=user_agent)\n",
    "await page.goto(url)\n",
    "await asyncio.sleep(3)\n",
    "await page.goto(url)"
   ]
  },
  {
   "cell_type": "code",
   "execution_count": 5,
   "id": "850cb1ad-b46e-436e-8ea2-ba4d444fa0c8",
   "metadata": {},
   "outputs": [],
   "source": [
    "os.makedirs('data/htmls/', exist_ok=True)"
   ]
  },
  {
   "cell_type": "code",
   "execution_count": 6,
   "id": "a4fd5d4c-d0b8-4bfc-a7c0-485477923372",
   "metadata": {},
   "outputs": [
    {
     "name": "stdout",
     "output_type": "stream",
     "text": [
      "Processing index: 293, https://modulocomprascorporativas.compraspublicas.gob.ec/ProcesoContratacion/compras/PC/informacionProcesoContratacion2.cpe?idSoliCompra=4Lqpmu2fCeOpDLalJJ0-PiKmGuOjwRb1hfoPvWKW6Bo,SICM-237-2022 no tiene 'ver resultados'\n",
      "Processing index: 985, https://modulocomprascorporativas.compraspublicas.gob.ec/ProcesoContratacion/compras/PC/informacionProcesoContratacion2.cpe?idSoliCompra=J3BXaW7XUlDunC55iRiV1jsBQKoicYYiO2SUKFVTqUs,"
     ]
    }
   ],
   "source": [
    "data = []\n",
    "\n",
    "for i, row in df.iterrows():\n",
    "    \n",
    "    url = row[\"detalle_url\"]\n",
    "    code = row[\"codigo\"]\n",
    "\n",
    "    await asyncio.sleep(1)\n",
    "    print(f\"\\rProcessing index: {i}, {url}\", end=\"\")\n",
    "        \n",
    "    await page.goto(url, timeout=10000)\n",
    "    await asyncio.sleep(2)\n",
    "            \n",
    "    await page.wait_for_selector(\"#tab3\", state=\"visible\", timeout=10000)\n",
    "    await page.eval_on_selector(\"#tab3\", \"el => el.click()\")\n",
    "    await asyncio.sleep(1)\n",
    "    \n",
    "    html = await page.content()\n",
    "    soup = BeautifulSoup(html, \"lxml\")\n",
    "\n",
    "    now = datetime.now()\n",
    "    timestamp = now.strftime(\"%Y-%m-%d_%H-%M\")\n",
    "    filename = f\"{code}_{timestamp}.html\"\n",
    "    \n",
    "    with open(f'data/htmls/{filename}', 'w') as f:\n",
    "        f.write(html)\n",
    "\n",
    "    details_table = soup.select_one(\"table#rounded-corner tbody\")\n",
    "    details_row = details_table.find_all(\"td\")\n",
    "    \n",
    "    item = {}\n",
    "    \n",
    "    item[\"cum_id\"] = details_row[0].get_text(strip=True)\n",
    "    item[\"principio_activo\"] = details_row[1].get_text(strip=True)\n",
    "    item[\"forma_farmaceutica\"] = details_row[2].get_text(strip=True)\n",
    "    item[\"concentracion\"] = details_row[3].get_text(strip=True)\n",
    "    item[\"presentacion\"] = details_row[4].get_text(strip=True)\n",
    "    item[\"cantidad\"] = details_row[5].get_text(strip=True)\n",
    "    item[\"precio_referencial\"] = details_row[6].get_text(strip=True)\n",
    "    item[\"subtotal\"] = details_row[7].get_text(strip=True)\n",
    "\n",
    "    if \"Adjudicado\" in row[\"estado\"]:\n",
    "        try:\n",
    "            await page.locator(\"a:has-text('Ver Resultados')\").click()\n",
    "            await asyncio.sleep(3)\n",
    "       \n",
    "            html = await page.content()\n",
    "            soup = BeautifulSoup(html, \"lxml\")\n",
    "    \n",
    "            now = datetime.now()\n",
    "            timestamp = now.strftime(\"%Y-%m-%d_%H-%M\")\n",
    "            filename = f\"adjudicacion_{code}_{timestamp}.html\"\n",
    "        \n",
    "            with open(f'data/htmls/{filename}', 'w') as f:\n",
    "                f.write(html)\n",
    "\n",
    "            adju_table = soup.select_one(\"table#tableadjudicacion\")\n",
    "            adju_rows = adju_table.find_all(\"tr\")\n",
    "\n",
    "            item[\"proveedor_adjudicado\"] = adju_rows[0].find_all(\"td\")[1].get_text(strip=True)\n",
    "            item[\"valor_adjudicado\"] = adju_rows[1].find_all(\"td\")[1].get_text(strip=True)\n",
    "            item[\"fecha_adjudicacion\"] = adju_rows[3].find_all(\"td\")[1].get_text(strip=True)\n",
    "\n",
    "        except:\n",
    "            print(f\"{code} no tiene 'ver resultados'\")\n",
    "\n",
    "\n",
    "    data.append(item)"
   ]
  },
  {
   "cell_type": "code",
   "execution_count": 7,
   "id": "21272dda-6ff0-4138-a973-f524c6af638c",
   "metadata": {},
   "outputs": [],
   "source": [
    "for item, (_, row) in zip(data, df.iterrows()):\n",
    "    item[\"codigo\"] = row[\"codigo\"]"
   ]
  },
  {
   "cell_type": "code",
   "execution_count": 11,
   "id": "d20ff937-4805-4400-b28b-539a282ee014",
   "metadata": {},
   "outputs": [],
   "source": [
    "now = datetime.now()\n",
    "timestamp = now.strftime(\"%Y-%m-%d_%H-%M\")"
   ]
  },
  {
   "cell_type": "code",
   "execution_count": 80,
   "id": "8568d160-7810-4606-9207-a95a8ad27668",
   "metadata": {},
   "outputs": [],
   "source": [
    "import json\n",
    "\n",
    "with open(f\"data/raw/scraped_details_{timestamp}.json\", \"w\", encoding=\"utf-8\") as f:\n",
    "    json.dump(data, f, ensure_ascii=False, indent=2)"
   ]
  },
  {
   "cell_type": "markdown",
   "id": "39405340-296b-4d68-9b6c-6bed662ee46b",
   "metadata": {},
   "source": [
    "## Merge datasets\n",
    "\n",
    "Finally, I will merge both datasets in one csv file, to run analysis on them."
   ]
  },
  {
   "cell_type": "code",
   "execution_count": 18,
   "id": "cdbcbbe8-82d8-41c2-826c-ca4e80361483",
   "metadata": {},
   "outputs": [],
   "source": [
    "details = pd.DataFrame(data)"
   ]
  },
  {
   "cell_type": "code",
   "execution_count": 63,
   "id": "d068af2e-fac3-447a-82b5-9ff1ade7c38f",
   "metadata": {},
   "outputs": [],
   "source": [
    "merged = df.join(details, rsuffix=\"_scraped\")"
   ]
  },
  {
   "cell_type": "code",
   "execution_count": 64,
   "id": "f167d25f-bb6e-4b43-b0de-d534871796fe",
   "metadata": {},
   "outputs": [
    {
     "data": {
      "text/html": [
       "<div>\n",
       "<style scoped>\n",
       "    .dataframe tbody tr th:only-of-type {\n",
       "        vertical-align: middle;\n",
       "    }\n",
       "\n",
       "    .dataframe tbody tr th {\n",
       "        vertical-align: top;\n",
       "    }\n",
       "\n",
       "    .dataframe thead th {\n",
       "        text-align: right;\n",
       "    }\n",
       "</style>\n",
       "<table border=\"1\" class=\"dataframe\">\n",
       "  <thead>\n",
       "    <tr style=\"text-align: right;\">\n",
       "      <th></th>\n",
       "      <th>codigo</th>\n",
       "      <th>detalle_url</th>\n",
       "      <th>entidad</th>\n",
       "      <th>objeto</th>\n",
       "      <th>estado</th>\n",
       "      <th>ubicacion</th>\n",
       "      <th>presupuesto</th>\n",
       "      <th>fecha_publicacion</th>\n",
       "      <th>semestre</th>\n",
       "      <th>cum_id</th>\n",
       "      <th>...</th>\n",
       "      <th>forma_farmaceutica</th>\n",
       "      <th>concentracion</th>\n",
       "      <th>presentacion</th>\n",
       "      <th>cantidad</th>\n",
       "      <th>precio_referencial</th>\n",
       "      <th>subtotal</th>\n",
       "      <th>codigo_scraped</th>\n",
       "      <th>proveedor_adjudicado</th>\n",
       "      <th>valor_adjudicado</th>\n",
       "      <th>fecha_adjudicacion</th>\n",
       "    </tr>\n",
       "  </thead>\n",
       "  <tbody>\n",
       "    <tr>\n",
       "      <th>0</th>\n",
       "      <td>SICM-499-2022</td>\n",
       "      <td>https://modulocomprascorporativas.compraspubli...</td>\n",
       "      <td>SERVICIO NACIONAL DE CONTRATACION PUBLICA</td>\n",
       "      <td>DCI: LEVONORGESTREL - FORMA FARMACÉUTICA: SÓLI...</td>\n",
       "      <td>Desierto</td>\n",
       "      <td>PICHINCHA / QUITO</td>\n",
       "      <td>$62.31600</td>\n",
       "      <td>2022-06-23 08:00:00</td>\n",
       "      <td>First 2022</td>\n",
       "      <td>G03AC03SPS113I1</td>\n",
       "      <td>...</td>\n",
       "      <td>Sólido parenteral (Implante subdérmico)</td>\n",
       "      <td>150 mg (2 varillas de 75 mg)</td>\n",
       "      <td>Caja x implante (s) de 75 mg c/u + trocar (es)</td>\n",
       "      <td>23933</td>\n",
       "      <td>USD 62.316000</td>\n",
       "      <td>USD 1,491,408.828000</td>\n",
       "      <td>SICM-499-2022</td>\n",
       "      <td>NaN</td>\n",
       "      <td>NaN</td>\n",
       "      <td>NaN</td>\n",
       "    </tr>\n",
       "    <tr>\n",
       "      <th>1</th>\n",
       "      <td>SICM-514-2022</td>\n",
       "      <td>https://modulocomprascorporativas.compraspubli...</td>\n",
       "      <td>SERVICIO NACIONAL DE CONTRATACION PUBLICA</td>\n",
       "      <td>DCI: PREDNISOLONA - FORMA FARMACÉUTICA: SÓLIDO...</td>\n",
       "      <td>Desierto</td>\n",
       "      <td>PICHINCHA / QUITO</td>\n",
       "      <td>$0.06000</td>\n",
       "      <td>2022-06-23 08:00:00</td>\n",
       "      <td>First 2022</td>\n",
       "      <td>H02AB06SOR140X0</td>\n",
       "      <td>...</td>\n",
       "      <td>Sólido oral</td>\n",
       "      <td>20 mg</td>\n",
       "      <td>Caja x blíster/ristra</td>\n",
       "      <td>595189</td>\n",
       "      <td>USD 0.060000</td>\n",
       "      <td>USD 35,711.340000</td>\n",
       "      <td>SICM-514-2022</td>\n",
       "      <td>NaN</td>\n",
       "      <td>NaN</td>\n",
       "      <td>NaN</td>\n",
       "    </tr>\n",
       "    <tr>\n",
       "      <th>2</th>\n",
       "      <td>SICM-500-2022</td>\n",
       "      <td>https://modulocomprascorporativas.compraspubli...</td>\n",
       "      <td>SERVICIO NACIONAL DE CONTRATACION PUBLICA</td>\n",
       "      <td>DCI: LIDOCAÍNA SIN EPINEFRINA - FORMA FARMACÉU...</td>\n",
       "      <td>Adjudicado oferente ganador</td>\n",
       "      <td>PICHINCHA / QUITO</td>\n",
       "      <td>$5.00000</td>\n",
       "      <td>2022-06-23 08:00:00</td>\n",
       "      <td>First 2022</td>\n",
       "      <td>N01BB02SCT220X0</td>\n",
       "      <td>...</td>\n",
       "      <td>Sólido cutáneo (Parche transdérmico)</td>\n",
       "      <td>5 %</td>\n",
       "      <td>Caja x parche/parches</td>\n",
       "      <td>184631</td>\n",
       "      <td>USD 5.000000</td>\n",
       "      <td>USD 923,155.000000</td>\n",
       "      <td>SICM-500-2022</td>\n",
       "      <td>GRUNENTHAL ECUATORIANA CIA LTDA</td>\n",
       "      <td>USD 2.990000</td>\n",
       "      <td>2022-09-05 13:11:06</td>\n",
       "    </tr>\n",
       "    <tr>\n",
       "      <th>3</th>\n",
       "      <td>SICM-515-2022</td>\n",
       "      <td>https://modulocomprascorporativas.compraspubli...</td>\n",
       "      <td>SERVICIO NACIONAL DE CONTRATACION PUBLICA</td>\n",
       "      <td>DCI: PROGESTERONA - FORMA FARMACÉUTICA: SÓLIDO...</td>\n",
       "      <td>Desierto</td>\n",
       "      <td>PICHINCHA / QUITO</td>\n",
       "      <td>$0.23000</td>\n",
       "      <td>2022-06-23 08:00:00</td>\n",
       "      <td>First 2022</td>\n",
       "      <td>G03DA04SOR083X0</td>\n",
       "      <td>...</td>\n",
       "      <td>Sólido oral</td>\n",
       "      <td>100 mg</td>\n",
       "      <td>Caja x blíster/ristra</td>\n",
       "      <td>3459277</td>\n",
       "      <td>USD 0.230000</td>\n",
       "      <td>USD 795,633.710000</td>\n",
       "      <td>SICM-515-2022</td>\n",
       "      <td>NaN</td>\n",
       "      <td>NaN</td>\n",
       "      <td>NaN</td>\n",
       "    </tr>\n",
       "    <tr>\n",
       "      <th>4</th>\n",
       "      <td>SICM-516-2022</td>\n",
       "      <td>https://modulocomprascorporativas.compraspubli...</td>\n",
       "      <td>SERVICIO NACIONAL DE CONTRATACION PUBLICA</td>\n",
       "      <td>DCI: RITUXIMAB - FORMA FARMACÉUTICA: LÍQUIDO P...</td>\n",
       "      <td>Desierto</td>\n",
       "      <td>PICHINCHA / QUITO</td>\n",
       "      <td>$1406.37000</td>\n",
       "      <td>2022-06-23 08:00:00</td>\n",
       "      <td>First 2022</td>\n",
       "      <td>L01XC02LPR104D7</td>\n",
       "      <td>...</td>\n",
       "      <td>Líquido parenteral</td>\n",
       "      <td>1 400 mg/11,7 mL</td>\n",
       "      <td>Caja x vial x 11,7 mL</td>\n",
       "      <td>2230</td>\n",
       "      <td>USD 1,406.370000</td>\n",
       "      <td>USD 3,136,205.100000</td>\n",
       "      <td>SICM-516-2022</td>\n",
       "      <td>NaN</td>\n",
       "      <td>NaN</td>\n",
       "      <td>NaN</td>\n",
       "    </tr>\n",
       "  </tbody>\n",
       "</table>\n",
       "<p>5 rows × 21 columns</p>\n",
       "</div>"
      ],
      "text/plain": [
       "          codigo                                        detalle_url  \\\n",
       "0  SICM-499-2022  https://modulocomprascorporativas.compraspubli...   \n",
       "1  SICM-514-2022  https://modulocomprascorporativas.compraspubli...   \n",
       "2  SICM-500-2022  https://modulocomprascorporativas.compraspubli...   \n",
       "3  SICM-515-2022  https://modulocomprascorporativas.compraspubli...   \n",
       "4  SICM-516-2022  https://modulocomprascorporativas.compraspubli...   \n",
       "\n",
       "                                     entidad  \\\n",
       "0  SERVICIO NACIONAL DE CONTRATACION PUBLICA   \n",
       "1  SERVICIO NACIONAL DE CONTRATACION PUBLICA   \n",
       "2  SERVICIO NACIONAL DE CONTRATACION PUBLICA   \n",
       "3  SERVICIO NACIONAL DE CONTRATACION PUBLICA   \n",
       "4  SERVICIO NACIONAL DE CONTRATACION PUBLICA   \n",
       "\n",
       "                                              objeto  \\\n",
       "0  DCI: LEVONORGESTREL - FORMA FARMACÉUTICA: SÓLI...   \n",
       "1  DCI: PREDNISOLONA - FORMA FARMACÉUTICA: SÓLIDO...   \n",
       "2  DCI: LIDOCAÍNA SIN EPINEFRINA - FORMA FARMACÉU...   \n",
       "3  DCI: PROGESTERONA - FORMA FARMACÉUTICA: SÓLIDO...   \n",
       "4  DCI: RITUXIMAB - FORMA FARMACÉUTICA: LÍQUIDO P...   \n",
       "\n",
       "                        estado          ubicacion  presupuesto  \\\n",
       "0                     Desierto  PICHINCHA / QUITO    $62.31600   \n",
       "1                     Desierto  PICHINCHA / QUITO     $0.06000   \n",
       "2  Adjudicado oferente ganador  PICHINCHA / QUITO     $5.00000   \n",
       "3                     Desierto  PICHINCHA / QUITO     $0.23000   \n",
       "4                     Desierto  PICHINCHA / QUITO  $1406.37000   \n",
       "\n",
       "     fecha_publicacion    semestre           cum_id  ...  \\\n",
       "0  2022-06-23 08:00:00  First 2022  G03AC03SPS113I1  ...   \n",
       "1  2022-06-23 08:00:00  First 2022  H02AB06SOR140X0  ...   \n",
       "2  2022-06-23 08:00:00  First 2022  N01BB02SCT220X0  ...   \n",
       "3  2022-06-23 08:00:00  First 2022  G03DA04SOR083X0  ...   \n",
       "4  2022-06-23 08:00:00  First 2022  L01XC02LPR104D7  ...   \n",
       "\n",
       "                        forma_farmaceutica                 concentracion  \\\n",
       "0  Sólido parenteral (Implante subdérmico)  150 mg (2 varillas de 75 mg)   \n",
       "1                              Sólido oral                         20 mg   \n",
       "2     Sólido cutáneo (Parche transdérmico)                           5 %   \n",
       "3                              Sólido oral                        100 mg   \n",
       "4                       Líquido parenteral              1 400 mg/11,7 mL   \n",
       "\n",
       "                                     presentacion cantidad precio_referencial  \\\n",
       "0  Caja x implante (s) de 75 mg c/u + trocar (es)    23933      USD 62.316000   \n",
       "1                           Caja x blíster/ristra   595189       USD 0.060000   \n",
       "2                           Caja x parche/parches   184631       USD 5.000000   \n",
       "3                           Caja x blíster/ristra  3459277       USD 0.230000   \n",
       "4                           Caja x vial x 11,7 mL     2230   USD 1,406.370000   \n",
       "\n",
       "               subtotal codigo_scraped             proveedor_adjudicado  \\\n",
       "0  USD 1,491,408.828000  SICM-499-2022                              NaN   \n",
       "1     USD 35,711.340000  SICM-514-2022                              NaN   \n",
       "2    USD 923,155.000000  SICM-500-2022  GRUNENTHAL ECUATORIANA CIA LTDA   \n",
       "3    USD 795,633.710000  SICM-515-2022                              NaN   \n",
       "4  USD 3,136,205.100000  SICM-516-2022                              NaN   \n",
       "\n",
       "  valor_adjudicado   fecha_adjudicacion  \n",
       "0              NaN                  NaN  \n",
       "1              NaN                  NaN  \n",
       "2     USD 2.990000  2022-09-05 13:11:06  \n",
       "3              NaN                  NaN  \n",
       "4              NaN                  NaN  \n",
       "\n",
       "[5 rows x 21 columns]"
      ]
     },
     "execution_count": 64,
     "metadata": {},
     "output_type": "execute_result"
    }
   ],
   "source": [
    "merged.head()"
   ]
  },
  {
   "cell_type": "code",
   "execution_count": 68,
   "id": "baa850c4-a127-4119-a1d4-70babbbcaad4",
   "metadata": {},
   "outputs": [
    {
     "name": "stdout",
     "output_type": "stream",
     "text": [
      "<class 'pandas.core.frame.DataFrame'>\n",
      "RangeIndex: 986 entries, 0 to 985\n",
      "Data columns (total 21 columns):\n",
      " #   Column                Non-Null Count  Dtype \n",
      "---  ------                --------------  ----- \n",
      " 0   codigo                986 non-null    object\n",
      " 1   detalle_url           986 non-null    object\n",
      " 2   entidad               986 non-null    object\n",
      " 3   objeto                986 non-null    object\n",
      " 4   estado                986 non-null    object\n",
      " 5   ubicacion             986 non-null    object\n",
      " 6   presupuesto           986 non-null    object\n",
      " 7   fecha_publicacion     986 non-null    object\n",
      " 8   semestre              986 non-null    object\n",
      " 9   cum_id                986 non-null    object\n",
      " 10  principio_activo      986 non-null    object\n",
      " 11  forma_farmaceutica    986 non-null    object\n",
      " 12  concentracion         986 non-null    object\n",
      " 13  presentacion          986 non-null    object\n",
      " 14  cantidad              986 non-null    object\n",
      " 15  precio_referencial    986 non-null    object\n",
      " 16  subtotal              986 non-null    object\n",
      " 17  codigo_scraped        986 non-null    object\n",
      " 18  proveedor_adjudicado  413 non-null    object\n",
      " 19  valor_adjudicado      413 non-null    object\n",
      " 20  fecha_adjudicacion    413 non-null    object\n",
      "dtypes: object(21)\n",
      "memory usage: 161.9+ KB\n"
     ]
    }
   ],
   "source": [
    "merged.info()"
   ]
  },
  {
   "cell_type": "code",
   "execution_count": 69,
   "id": "9127ea11-4e0c-43ae-a1b7-f7a472f4fa13",
   "metadata": {},
   "outputs": [],
   "source": [
    "merged = merged.drop(columns={\"codigo_scraped\"})"
   ]
  },
  {
   "cell_type": "code",
   "execution_count": 70,
   "id": "d898f461-fdbf-48fc-a172-a45a8f7ac124",
   "metadata": {},
   "outputs": [
    {
     "data": {
      "text/plain": [
       "codigo                                                      SICM-237-2022\n",
       "detalle_url             https://modulocomprascorporativas.compraspubli...\n",
       "entidad                         SERVICIO NACIONAL DE CONTRATACION PUBLICA\n",
       "objeto                  DCI: METRONIDAZOL - FORMA FARMACÉUTICA: SÓLIDO...\n",
       "estado                                        Adjudicado oferente ganador\n",
       "ubicacion                                               PICHINCHA / QUITO\n",
       "presupuesto                                                      $0.12500\n",
       "fecha_publicacion                                     2022-05-03 08:00:00\n",
       "semestre                                                       First 2022\n",
       "cum_id                                                    G01AF01SVG241X0\n",
       "principio_activo                                             Metronidazol\n",
       "forma_farmaceutica                                         Sólido vaginal\n",
       "concentracion                                                      500 mg\n",
       "presentacion                                        Caja x blíster/ristra\n",
       "cantidad                                                          6916753\n",
       "precio_referencial                                           USD 0.125000\n",
       "subtotal                                               USD 864,594.125000\n",
       "proveedor_adjudicado                                                  NaN\n",
       "valor_adjudicado                                                      NaN\n",
       "fecha_adjudicacion                                                    NaN\n",
       "Name: 293, dtype: object"
      ]
     },
     "execution_count": 70,
     "metadata": {},
     "output_type": "execute_result"
    }
   ],
   "source": [
    "#Checking the one item that got an error while scraping\n",
    "merged.iloc[293]"
   ]
  },
  {
   "cell_type": "code",
   "execution_count": 71,
   "id": "e29edade-aa03-44ea-8d28-54548599343a",
   "metadata": {},
   "outputs": [
    {
     "data": {
      "text/plain": [
       "'https://modulocomprascorporativas.compraspublicas.gob.ec/ProcesoContratacion/compras/PC/informacionProcesoContratacion2.cpe?idSoliCompra=4Lqpmu2fCeOpDLalJJ0-PiKmGuOjwRb1hfoPvWKW6Bo,'"
      ]
     },
     "execution_count": 71,
     "metadata": {},
     "output_type": "execute_result"
    }
   ],
   "source": [
    "#Check the url manually, because it is an awarded contract but I didn't get the supplier\n",
    "merged.iloc[293][\"detalle_url\"]"
   ]
  },
  {
   "cell_type": "code",
   "execution_count": 81,
   "id": "417a891c-2f6c-4f3f-9079-13252235dcd2",
   "metadata": {},
   "outputs": [],
   "source": [
    "merged.to_csv(\"data/raw/complete_scraped_data.csv\", index=False)"
   ]
  },
  {
   "cell_type": "code",
   "execution_count": null,
   "id": "2a184a95-8b3f-4957-885a-54d458b308fd",
   "metadata": {},
   "outputs": [],
   "source": []
  }
 ],
 "metadata": {
  "kernelspec": {
   "display_name": "Python 3 (ipykernel)",
   "language": "python",
   "name": "python3"
  },
  "language_info": {
   "codemirror_mode": {
    "name": "ipython",
    "version": 3
   },
   "file_extension": ".py",
   "mimetype": "text/x-python",
   "name": "python",
   "nbconvert_exporter": "python",
   "pygments_lexer": "ipython3",
   "version": "3.12.10"
  }
 },
 "nbformat": 4,
 "nbformat_minor": 5
}
