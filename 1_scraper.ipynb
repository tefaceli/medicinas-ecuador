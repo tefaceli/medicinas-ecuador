{
 "cells": [
  {
   "cell_type": "markdown",
   "id": "057ca497-2e37-478f-8f9b-788530f46f2d",
   "metadata": {},
   "source": [
    "# Scraper of public procurement processes\n",
    "\n",
    "The webpage that has the data on all the contracts for medicine, which can be found [here](https://modulocomprascorporativas.compraspublicas.gob.ec/ProcesoContratacion/compras/PC/buscarProceso.cpe?sg=1#), only allows searches in 6 month periods, and has a captcha. This scraper allows to download all of the purchasing processes using Playwright and bs4, but filling the date and captcha mannually.\n",
    "\n",
    "Purchasing processes were launched in 2022 and 2023; there are no processes for 2024 and 2025."
   ]
  },
  {
   "cell_type": "code",
   "execution_count": 1,
   "id": "58a16308-8f67-4780-8076-d1b139afc2d1",
   "metadata": {},
   "outputs": [],
   "source": [
    "from playwright.async_api import async_playwright\n",
    "from bs4 import BeautifulSoup\n",
    "import pandas as pd\n",
    "import asyncio"
   ]
  },
  {
   "cell_type": "code",
   "execution_count": 2,
   "id": "1ecc0170-dd7a-465d-b1df-1692f225e095",
   "metadata": {},
   "outputs": [
    {
     "data": {
      "text/plain": [
       "<Response url='https://modulocomprascorporativas.compraspublicas.gob.ec/ProcesoContratacion/compras/PC/buscarProceso.cpe?sg=1' request=<Request url='https://modulocomprascorporativas.compraspublicas.gob.ec/ProcesoContratacion/compras/PC/buscarProceso.cpe?sg=1' method='GET'>>"
      ]
     },
     "execution_count": 2,
     "metadata": {},
     "output_type": "execute_result"
    }
   ],
   "source": [
    "playwright = await async_playwright().start()\n",
    "browser = await playwright.chromium.launch(headless=False)\n",
    "page = await browser.new_page()\n",
    "await page.goto(\"https://modulocomprascorporativas.compraspublicas.gob.ec/ProcesoContratacion/compras/PC/buscarProceso.cpe?sg=1#\")"
   ]
  },
  {
   "cell_type": "code",
   "execution_count": 3,
   "id": "9d32299a-b029-4c19-b01c-2aecac361241",
   "metadata": {},
   "outputs": [
    {
     "name": "stdout",
     "output_type": "stream",
     "text": [
      "Scraping First 2022 — Waiting for dates and captcha manually\n"
     ]
    },
    {
     "name": "stdin",
     "output_type": "stream",
     "text": [
      "---- Press enter when completed \n"
     ]
    },
    {
     "name": "stdout",
     "output_type": "stream",
     "text": [
      "No 'Siguiente' button found — ending this semester\n",
      "Finished scraping for: First 2022\n",
      "Scraping Second 2022 — Waiting for dates and captcha manually\n"
     ]
    },
    {
     "name": "stdin",
     "output_type": "stream",
     "text": [
      "---- Press enter when completed \n"
     ]
    },
    {
     "name": "stdout",
     "output_type": "stream",
     "text": [
      "No 'Siguiente' button found — ending this semester\n",
      "Finished scraping for: Second 2022\n",
      "Scraping First 2023 — Waiting for dates and captcha manually\n"
     ]
    },
    {
     "name": "stdin",
     "output_type": "stream",
     "text": [
      "---- Press enter when completed \n"
     ]
    },
    {
     "name": "stdout",
     "output_type": "stream",
     "text": [
      "No 'Siguiente' button found — ending this semester\n",
      "Finished scraping for: First 2023\n",
      "Scraping Second 2023 — Waiting for dates and captcha manually\n"
     ]
    },
    {
     "name": "stdin",
     "output_type": "stream",
     "text": [
      "---- Press enter when completed \n"
     ]
    },
    {
     "name": "stdout",
     "output_type": "stream",
     "text": [
      "No 'Siguiente' button found — ending this semester\n",
      "Finished scraping for: Second 2023\n"
     ]
    }
   ],
   "source": [
    "all_rows = []\n",
    "\n",
    "semesters = [\n",
    "    (\"First 2022\", \"Waiting for dates and captcha manually\"),\n",
    "    (\"Second 2022\", \"Waiting for dates and captcha manually\"),\n",
    "    (\"First 2023\", \"Waiting for dates and captcha manually\"),\n",
    "    (\"Second 2023\", \"Waiting for dates and captcha manually\"),\n",
    "]\n",
    "\n",
    "for label, instruction in semesters:\n",
    "    print(f\"Scraping {label} — {instruction}\")\n",
    "    input(\"---- Press enter when completed\")\n",
    "\n",
    "    offset = 0\n",
    "\n",
    "    while True:\n",
    "        try:\n",
    "            await page.wait_for_selector(\"table\", timeout=10000)\n",
    "            html = await page.content()\n",
    "            soup = BeautifulSoup(html, \"lxml\")\n",
    "\n",
    "            rows = soup.select(\"table tr\")[1:]  # Skip header\n",
    "            for row in rows:\n",
    "                cols = row.find_all(\"td\")\n",
    "                if not cols or len(cols) < 7:\n",
    "                    continue\n",
    "                try:\n",
    "                    codigo = cols[0].text.strip()\n",
    "                    detalle_url = cols[0].find(\"a\")[\"href\"] if cols[0].find(\"a\") else None\n",
    "                    entidad = cols[1].text.strip()\n",
    "                    objeto = cols[2].text.strip()\n",
    "                    estado = cols[3].text.strip()\n",
    "                    ubicacion = cols[4].text.strip()\n",
    "                    presupuesto = cols[5].text.strip()\n",
    "                    fecha_publicacion = cols[6].text.strip()\n",
    "\n",
    "                    all_rows.append({\n",
    "                        \"codigo\": codigo,\n",
    "                        \"detalle_url\": detalle_url,\n",
    "                        \"entidad\": entidad,\n",
    "                        \"objeto\": objeto,\n",
    "                        \"estado\": estado,\n",
    "                        \"ubicacion\": ubicacion,\n",
    "                        \"presupuesto\": presupuesto,\n",
    "                        \"fecha_publicacion\": fecha_publicacion,\n",
    "                        \"semestre\": label\n",
    "                    })\n",
    "                except Exception as e:\n",
    "                    print(\"Error parsing row:\", e)\n",
    "\n",
    "            try:\n",
    "                siguiente_button = await page.query_selector(\"a:has-text('Siguiente')\")\n",
    "                if not siguiente_button:\n",
    "                    print(\"No 'Siguiente' button found — ending this semester\")\n",
    "                    break\n",
    "\n",
    "                offset += 20\n",
    "                await asyncio.sleep(2)\n",
    "                await page.evaluate(f\"presentarProcesos({offset})\")\n",
    "\n",
    "            except Exception as e:\n",
    "                print(\"Error checking or clicking 'Siguiente':\", e)\n",
    "                break\n",
    "\n",
    "        except Exception as e:\n",
    "            print(\"Unexpected error while scraping:\", e)\n",
    "            break\n",
    "\n",
    "    print(f\"Finished scraping for: {label}\")\n",
    "    await asyncio.sleep(5)"
   ]
  },
  {
   "cell_type": "code",
   "execution_count": 4,
   "id": "083ed273-5e48-4b10-9e45-f12ec9f2c73d",
   "metadata": {},
   "outputs": [
    {
     "data": {
      "text/plain": [
       "2692"
      ]
     },
     "execution_count": 4,
     "metadata": {},
     "output_type": "execute_result"
    }
   ],
   "source": [
    "df = pd.DataFrame(all_rows)\n",
    "len(df)"
   ]
  },
  {
   "cell_type": "code",
   "execution_count": 5,
   "id": "6257af9f-28f2-4095-8509-10701d6585ab",
   "metadata": {},
   "outputs": [
    {
     "data": {
      "text/html": [
       "<div>\n",
       "<style scoped>\n",
       "    .dataframe tbody tr th:only-of-type {\n",
       "        vertical-align: middle;\n",
       "    }\n",
       "\n",
       "    .dataframe tbody tr th {\n",
       "        vertical-align: top;\n",
       "    }\n",
       "\n",
       "    .dataframe thead th {\n",
       "        text-align: right;\n",
       "    }\n",
       "</style>\n",
       "<table border=\"1\" class=\"dataframe\">\n",
       "  <thead>\n",
       "    <tr style=\"text-align: right;\">\n",
       "      <th></th>\n",
       "      <th>codigo</th>\n",
       "      <th>detalle_url</th>\n",
       "      <th>entidad</th>\n",
       "      <th>objeto</th>\n",
       "      <th>estado</th>\n",
       "      <th>ubicacion</th>\n",
       "      <th>presupuesto</th>\n",
       "      <th>fecha_publicacion</th>\n",
       "      <th>semestre</th>\n",
       "    </tr>\n",
       "  </thead>\n",
       "  <tbody>\n",
       "    <tr>\n",
       "      <th>0</th>\n",
       "      <td></td>\n",
       "      <td>None</td>\n",
       "      <td>Entidad Contratante</td>\n",
       "      <td>Buscar Entidad</td>\n",
       "      <td></td>\n",
       "      <td>Buscar Entidad</td>\n",
       "      <td>Buscar Entidad</td>\n",
       "      <td>Buscar Entidad</td>\n",
       "      <td>First 2022</td>\n",
       "    </tr>\n",
       "    <tr>\n",
       "      <th>1</th>\n",
       "      <td></td>\n",
       "      <td>None</td>\n",
       "      <td>Por Fechas de Publicación (*)</td>\n",
       "      <td>Desde:  \\n      Hasta:</td>\n",
       "      <td>Desde:</td>\n",
       "      <td></td>\n",
       "      <td></td>\n",
       "      <td>Hasta:</td>\n",
       "      <td>First 2022</td>\n",
       "    </tr>\n",
       "    <tr>\n",
       "      <th>2</th>\n",
       "      <td></td>\n",
       "      <td>None</td>\n",
       "      <td></td>\n",
       "      <td></td>\n",
       "      <td></td>\n",
       "      <td></td>\n",
       "      <td></td>\n",
       "      <td></td>\n",
       "      <td>First 2022</td>\n",
       "    </tr>\n",
       "    <tr>\n",
       "      <th>3</th>\n",
       "      <td></td>\n",
       "      <td>None</td>\n",
       "      <td></td>\n",
       "      <td></td>\n",
       "      <td></td>\n",
       "      <td></td>\n",
       "      <td></td>\n",
       "      <td></td>\n",
       "      <td>First 2022</td>\n",
       "    </tr>\n",
       "    <tr>\n",
       "      <th>4</th>\n",
       "      <td></td>\n",
       "      <td>None</td>\n",
       "      <td></td>\n",
       "      <td></td>\n",
       "      <td></td>\n",
       "      <td></td>\n",
       "      <td></td>\n",
       "      <td></td>\n",
       "      <td>First 2022</td>\n",
       "    </tr>\n",
       "    <tr>\n",
       "      <th>5</th>\n",
       "      <td>Código</td>\n",
       "      <td>None</td>\n",
       "      <td>Entidad Contratante</td>\n",
       "      <td>Objeto del Proceso</td>\n",
       "      <td>Estado del Proceso</td>\n",
       "      <td>Provincia/Cantón</td>\n",
       "      <td>Presupuesto Referencial Unitario(sin iva)</td>\n",
       "      <td>Fecha de Publicación</td>\n",
       "      <td>First 2022</td>\n",
       "    </tr>\n",
       "    <tr>\n",
       "      <th>6</th>\n",
       "      <td>SICM-499-2022</td>\n",
       "      <td>informacionProcesoContratacion2.cpe?idSoliComp...</td>\n",
       "      <td>SERVICIO NACIONAL DE CONTRATACION PUBLICA</td>\n",
       "      <td>DCI: LEVONORGESTREL - FORMA FARMACÉUTICA: SÓLI...</td>\n",
       "      <td>Desierto</td>\n",
       "      <td>PICHINCHA / QUITO</td>\n",
       "      <td>$62.31600</td>\n",
       "      <td>2022-06-23 08:00:00</td>\n",
       "      <td>First 2022</td>\n",
       "    </tr>\n",
       "    <tr>\n",
       "      <th>7</th>\n",
       "      <td>SICM-514-2022</td>\n",
       "      <td>informacionProcesoContratacion2.cpe?idSoliComp...</td>\n",
       "      <td>SERVICIO NACIONAL DE CONTRATACION PUBLICA</td>\n",
       "      <td>DCI: PREDNISOLONA - FORMA FARMACÉUTICA: SÓLIDO...</td>\n",
       "      <td>Desierto</td>\n",
       "      <td>PICHINCHA / QUITO</td>\n",
       "      <td>$0.06000</td>\n",
       "      <td>2022-06-23 08:00:00</td>\n",
       "      <td>First 2022</td>\n",
       "    </tr>\n",
       "    <tr>\n",
       "      <th>8</th>\n",
       "      <td>SICM-500-2022</td>\n",
       "      <td>informacionProcesoContratacion2.cpe?idSoliComp...</td>\n",
       "      <td>SERVICIO NACIONAL DE CONTRATACION PUBLICA</td>\n",
       "      <td>DCI: LIDOCAÍNA SIN EPINEFRINA - FORMA FARMACÉU...</td>\n",
       "      <td>Adjudicado oferente ganador</td>\n",
       "      <td>PICHINCHA / QUITO</td>\n",
       "      <td>$5.00000</td>\n",
       "      <td>2022-06-23 08:00:00</td>\n",
       "      <td>First 2022</td>\n",
       "    </tr>\n",
       "    <tr>\n",
       "      <th>9</th>\n",
       "      <td>SICM-515-2022</td>\n",
       "      <td>informacionProcesoContratacion2.cpe?idSoliComp...</td>\n",
       "      <td>SERVICIO NACIONAL DE CONTRATACION PUBLICA</td>\n",
       "      <td>DCI: PROGESTERONA - FORMA FARMACÉUTICA: SÓLIDO...</td>\n",
       "      <td>Desierto</td>\n",
       "      <td>PICHINCHA / QUITO</td>\n",
       "      <td>$0.23000</td>\n",
       "      <td>2022-06-23 08:00:00</td>\n",
       "      <td>First 2022</td>\n",
       "    </tr>\n",
       "  </tbody>\n",
       "</table>\n",
       "</div>"
      ],
      "text/plain": [
       "          codigo                                        detalle_url  \\\n",
       "0                                                              None   \n",
       "1                                                              None   \n",
       "2                                                              None   \n",
       "3                                                              None   \n",
       "4                                                              None   \n",
       "5         Código                                               None   \n",
       "6  SICM-499-2022  informacionProcesoContratacion2.cpe?idSoliComp...   \n",
       "7  SICM-514-2022  informacionProcesoContratacion2.cpe?idSoliComp...   \n",
       "8  SICM-500-2022  informacionProcesoContratacion2.cpe?idSoliComp...   \n",
       "9  SICM-515-2022  informacionProcesoContratacion2.cpe?idSoliComp...   \n",
       "\n",
       "                                     entidad  \\\n",
       "0                        Entidad Contratante   \n",
       "1              Por Fechas de Publicación (*)   \n",
       "2                                              \n",
       "3                                              \n",
       "4                                              \n",
       "5                        Entidad Contratante   \n",
       "6  SERVICIO NACIONAL DE CONTRATACION PUBLICA   \n",
       "7  SERVICIO NACIONAL DE CONTRATACION PUBLICA   \n",
       "8  SERVICIO NACIONAL DE CONTRATACION PUBLICA   \n",
       "9  SERVICIO NACIONAL DE CONTRATACION PUBLICA   \n",
       "\n",
       "                                              objeto  \\\n",
       "0                                     Buscar Entidad   \n",
       "1                             Desde:  \\n      Hasta:   \n",
       "2                                                      \n",
       "3                                                      \n",
       "4                                                      \n",
       "5                                 Objeto del Proceso   \n",
       "6  DCI: LEVONORGESTREL - FORMA FARMACÉUTICA: SÓLI...   \n",
       "7  DCI: PREDNISOLONA - FORMA FARMACÉUTICA: SÓLIDO...   \n",
       "8  DCI: LIDOCAÍNA SIN EPINEFRINA - FORMA FARMACÉU...   \n",
       "9  DCI: PROGESTERONA - FORMA FARMACÉUTICA: SÓLIDO...   \n",
       "\n",
       "                        estado          ubicacion  \\\n",
       "0                                  Buscar Entidad   \n",
       "1                       Desde:                      \n",
       "2                                                   \n",
       "3                                                   \n",
       "4                                                   \n",
       "5           Estado del Proceso   Provincia/Cantón   \n",
       "6                     Desierto  PICHINCHA / QUITO   \n",
       "7                     Desierto  PICHINCHA / QUITO   \n",
       "8  Adjudicado oferente ganador  PICHINCHA / QUITO   \n",
       "9                     Desierto  PICHINCHA / QUITO   \n",
       "\n",
       "                                 presupuesto     fecha_publicacion    semestre  \n",
       "0                             Buscar Entidad        Buscar Entidad  First 2022  \n",
       "1                                                           Hasta:  First 2022  \n",
       "2                                                                   First 2022  \n",
       "3                                                                   First 2022  \n",
       "4                                                                   First 2022  \n",
       "5  Presupuesto Referencial Unitario(sin iva)  Fecha de Publicación  First 2022  \n",
       "6                                  $62.31600   2022-06-23 08:00:00  First 2022  \n",
       "7                                   $0.06000   2022-06-23 08:00:00  First 2022  \n",
       "8                                   $5.00000   2022-06-23 08:00:00  First 2022  \n",
       "9                                   $0.23000   2022-06-23 08:00:00  First 2022  "
      ]
     },
     "execution_count": 5,
     "metadata": {},
     "output_type": "execute_result"
    }
   ],
   "source": [
    "df.head(10)"
   ]
  },
  {
   "cell_type": "code",
   "execution_count": 6,
   "id": "61cee054-41c5-4028-b2e9-97cb049df302",
   "metadata": {},
   "outputs": [
    {
     "data": {
      "text/plain": [
       "detalle_url\n",
       "True     1706\n",
       "False     986\n",
       "Name: count, dtype: int64"
      ]
     },
     "execution_count": 6,
     "metadata": {},
     "output_type": "execute_result"
    }
   ],
   "source": [
    "df[\"detalle_url\"].isna().value_counts()"
   ]
  },
  {
   "cell_type": "code",
   "execution_count": 7,
   "id": "5abd1f3f-3b4c-4ca7-b004-5c9065bb9188",
   "metadata": {},
   "outputs": [
    {
     "data": {
      "text/plain": [
       "986"
      ]
     },
     "execution_count": 7,
     "metadata": {},
     "output_type": "execute_result"
    }
   ],
   "source": [
    "clean_df = df[df[\"detalle_url\"].notna()]\n",
    "len(clean_df)"
   ]
  },
  {
   "cell_type": "code",
   "execution_count": 8,
   "id": "364ec66b-70cd-4d19-8ec3-9742a8cc641a",
   "metadata": {},
   "outputs": [
    {
     "data": {
      "text/html": [
       "<div>\n",
       "<style scoped>\n",
       "    .dataframe tbody tr th:only-of-type {\n",
       "        vertical-align: middle;\n",
       "    }\n",
       "\n",
       "    .dataframe tbody tr th {\n",
       "        vertical-align: top;\n",
       "    }\n",
       "\n",
       "    .dataframe thead th {\n",
       "        text-align: right;\n",
       "    }\n",
       "</style>\n",
       "<table border=\"1\" class=\"dataframe\">\n",
       "  <thead>\n",
       "    <tr style=\"text-align: right;\">\n",
       "      <th></th>\n",
       "      <th>codigo</th>\n",
       "      <th>detalle_url</th>\n",
       "      <th>entidad</th>\n",
       "      <th>objeto</th>\n",
       "      <th>estado</th>\n",
       "      <th>ubicacion</th>\n",
       "      <th>presupuesto</th>\n",
       "      <th>fecha_publicacion</th>\n",
       "      <th>semestre</th>\n",
       "    </tr>\n",
       "  </thead>\n",
       "  <tbody>\n",
       "    <tr>\n",
       "      <th>6</th>\n",
       "      <td>SICM-499-2022</td>\n",
       "      <td>informacionProcesoContratacion2.cpe?idSoliComp...</td>\n",
       "      <td>SERVICIO NACIONAL DE CONTRATACION PUBLICA</td>\n",
       "      <td>DCI: LEVONORGESTREL - FORMA FARMACÉUTICA: SÓLI...</td>\n",
       "      <td>Desierto</td>\n",
       "      <td>PICHINCHA / QUITO</td>\n",
       "      <td>$62.31600</td>\n",
       "      <td>2022-06-23 08:00:00</td>\n",
       "      <td>First 2022</td>\n",
       "    </tr>\n",
       "    <tr>\n",
       "      <th>7</th>\n",
       "      <td>SICM-514-2022</td>\n",
       "      <td>informacionProcesoContratacion2.cpe?idSoliComp...</td>\n",
       "      <td>SERVICIO NACIONAL DE CONTRATACION PUBLICA</td>\n",
       "      <td>DCI: PREDNISOLONA - FORMA FARMACÉUTICA: SÓLIDO...</td>\n",
       "      <td>Desierto</td>\n",
       "      <td>PICHINCHA / QUITO</td>\n",
       "      <td>$0.06000</td>\n",
       "      <td>2022-06-23 08:00:00</td>\n",
       "      <td>First 2022</td>\n",
       "    </tr>\n",
       "    <tr>\n",
       "      <th>8</th>\n",
       "      <td>SICM-500-2022</td>\n",
       "      <td>informacionProcesoContratacion2.cpe?idSoliComp...</td>\n",
       "      <td>SERVICIO NACIONAL DE CONTRATACION PUBLICA</td>\n",
       "      <td>DCI: LIDOCAÍNA SIN EPINEFRINA - FORMA FARMACÉU...</td>\n",
       "      <td>Adjudicado oferente ganador</td>\n",
       "      <td>PICHINCHA / QUITO</td>\n",
       "      <td>$5.00000</td>\n",
       "      <td>2022-06-23 08:00:00</td>\n",
       "      <td>First 2022</td>\n",
       "    </tr>\n",
       "    <tr>\n",
       "      <th>9</th>\n",
       "      <td>SICM-515-2022</td>\n",
       "      <td>informacionProcesoContratacion2.cpe?idSoliComp...</td>\n",
       "      <td>SERVICIO NACIONAL DE CONTRATACION PUBLICA</td>\n",
       "      <td>DCI: PROGESTERONA - FORMA FARMACÉUTICA: SÓLIDO...</td>\n",
       "      <td>Desierto</td>\n",
       "      <td>PICHINCHA / QUITO</td>\n",
       "      <td>$0.23000</td>\n",
       "      <td>2022-06-23 08:00:00</td>\n",
       "      <td>First 2022</td>\n",
       "    </tr>\n",
       "    <tr>\n",
       "      <th>10</th>\n",
       "      <td>SICM-516-2022</td>\n",
       "      <td>informacionProcesoContratacion2.cpe?idSoliComp...</td>\n",
       "      <td>SERVICIO NACIONAL DE CONTRATACION PUBLICA</td>\n",
       "      <td>DCI: RITUXIMAB - FORMA FARMACÉUTICA: LÍQUIDO P...</td>\n",
       "      <td>Desierto</td>\n",
       "      <td>PICHINCHA / QUITO</td>\n",
       "      <td>$1406.37000</td>\n",
       "      <td>2022-06-23 08:00:00</td>\n",
       "      <td>First 2022</td>\n",
       "    </tr>\n",
       "  </tbody>\n",
       "</table>\n",
       "</div>"
      ],
      "text/plain": [
       "           codigo                                        detalle_url  \\\n",
       "6   SICM-499-2022  informacionProcesoContratacion2.cpe?idSoliComp...   \n",
       "7   SICM-514-2022  informacionProcesoContratacion2.cpe?idSoliComp...   \n",
       "8   SICM-500-2022  informacionProcesoContratacion2.cpe?idSoliComp...   \n",
       "9   SICM-515-2022  informacionProcesoContratacion2.cpe?idSoliComp...   \n",
       "10  SICM-516-2022  informacionProcesoContratacion2.cpe?idSoliComp...   \n",
       "\n",
       "                                      entidad  \\\n",
       "6   SERVICIO NACIONAL DE CONTRATACION PUBLICA   \n",
       "7   SERVICIO NACIONAL DE CONTRATACION PUBLICA   \n",
       "8   SERVICIO NACIONAL DE CONTRATACION PUBLICA   \n",
       "9   SERVICIO NACIONAL DE CONTRATACION PUBLICA   \n",
       "10  SERVICIO NACIONAL DE CONTRATACION PUBLICA   \n",
       "\n",
       "                                               objeto  \\\n",
       "6   DCI: LEVONORGESTREL - FORMA FARMACÉUTICA: SÓLI...   \n",
       "7   DCI: PREDNISOLONA - FORMA FARMACÉUTICA: SÓLIDO...   \n",
       "8   DCI: LIDOCAÍNA SIN EPINEFRINA - FORMA FARMACÉU...   \n",
       "9   DCI: PROGESTERONA - FORMA FARMACÉUTICA: SÓLIDO...   \n",
       "10  DCI: RITUXIMAB - FORMA FARMACÉUTICA: LÍQUIDO P...   \n",
       "\n",
       "                         estado          ubicacion  presupuesto  \\\n",
       "6                      Desierto  PICHINCHA / QUITO    $62.31600   \n",
       "7                      Desierto  PICHINCHA / QUITO     $0.06000   \n",
       "8   Adjudicado oferente ganador  PICHINCHA / QUITO     $5.00000   \n",
       "9                      Desierto  PICHINCHA / QUITO     $0.23000   \n",
       "10                     Desierto  PICHINCHA / QUITO  $1406.37000   \n",
       "\n",
       "      fecha_publicacion    semestre  \n",
       "6   2022-06-23 08:00:00  First 2022  \n",
       "7   2022-06-23 08:00:00  First 2022  \n",
       "8   2022-06-23 08:00:00  First 2022  \n",
       "9   2022-06-23 08:00:00  First 2022  \n",
       "10  2022-06-23 08:00:00  First 2022  "
      ]
     },
     "execution_count": 8,
     "metadata": {},
     "output_type": "execute_result"
    }
   ],
   "source": [
    "clean_df.head()"
   ]
  },
  {
   "cell_type": "code",
   "execution_count": 9,
   "id": "59d5b29b-d025-4df7-b570-12bb8ef27d6e",
   "metadata": {},
   "outputs": [
    {
     "name": "stderr",
     "output_type": "stream",
     "text": [
      "/var/folders/g1/ld0klj_s7bxf96phwdd6v4t80000gn/T/ipykernel_4965/387573897.py:2: SettingWithCopyWarning: \n",
      "A value is trying to be set on a copy of a slice from a DataFrame.\n",
      "Try using .loc[row_indexer,col_indexer] = value instead\n",
      "\n",
      "See the caveats in the documentation: https://pandas.pydata.org/pandas-docs/stable/user_guide/indexing.html#returning-a-view-versus-a-copy\n",
      "  clean_df[\"detalle_url\"] = base_url + clean_df[\"detalle_url\"].astype(str)\n"
     ]
    }
   ],
   "source": [
    "base_url = \"https://modulocomprascorporativas.compraspublicas.gob.ec/ProcesoContratacion/compras/PC/\"\n",
    "clean_df[\"detalle_url\"] = base_url + clean_df[\"detalle_url\"].astype(str)"
   ]
  },
  {
   "cell_type": "code",
   "execution_count": 10,
   "id": "fc0c034a-b28e-4460-87ef-9fe8c1308a70",
   "metadata": {},
   "outputs": [
    {
     "data": {
      "text/html": [
       "<div>\n",
       "<style scoped>\n",
       "    .dataframe tbody tr th:only-of-type {\n",
       "        vertical-align: middle;\n",
       "    }\n",
       "\n",
       "    .dataframe tbody tr th {\n",
       "        vertical-align: top;\n",
       "    }\n",
       "\n",
       "    .dataframe thead th {\n",
       "        text-align: right;\n",
       "    }\n",
       "</style>\n",
       "<table border=\"1\" class=\"dataframe\">\n",
       "  <thead>\n",
       "    <tr style=\"text-align: right;\">\n",
       "      <th></th>\n",
       "      <th>codigo</th>\n",
       "      <th>detalle_url</th>\n",
       "      <th>entidad</th>\n",
       "      <th>objeto</th>\n",
       "      <th>estado</th>\n",
       "      <th>ubicacion</th>\n",
       "      <th>presupuesto</th>\n",
       "      <th>fecha_publicacion</th>\n",
       "      <th>semestre</th>\n",
       "    </tr>\n",
       "  </thead>\n",
       "  <tbody>\n",
       "    <tr>\n",
       "      <th>6</th>\n",
       "      <td>SICM-499-2022</td>\n",
       "      <td>https://modulocomprascorporativas.compraspubli...</td>\n",
       "      <td>SERVICIO NACIONAL DE CONTRATACION PUBLICA</td>\n",
       "      <td>DCI: LEVONORGESTREL - FORMA FARMACÉUTICA: SÓLI...</td>\n",
       "      <td>Desierto</td>\n",
       "      <td>PICHINCHA / QUITO</td>\n",
       "      <td>$62.31600</td>\n",
       "      <td>2022-06-23 08:00:00</td>\n",
       "      <td>First 2022</td>\n",
       "    </tr>\n",
       "  </tbody>\n",
       "</table>\n",
       "</div>"
      ],
      "text/plain": [
       "          codigo                                        detalle_url  \\\n",
       "6  SICM-499-2022  https://modulocomprascorporativas.compraspubli...   \n",
       "\n",
       "                                     entidad  \\\n",
       "6  SERVICIO NACIONAL DE CONTRATACION PUBLICA   \n",
       "\n",
       "                                              objeto    estado  \\\n",
       "6  DCI: LEVONORGESTREL - FORMA FARMACÉUTICA: SÓLI...  Desierto   \n",
       "\n",
       "           ubicacion presupuesto    fecha_publicacion    semestre  \n",
       "6  PICHINCHA / QUITO   $62.31600  2022-06-23 08:00:00  First 2022  "
      ]
     },
     "execution_count": 10,
     "metadata": {},
     "output_type": "execute_result"
    }
   ],
   "source": [
    "clean_df.head(1)"
   ]
  },
  {
   "cell_type": "code",
   "execution_count": 12,
   "id": "098572f3-f00c-40ec-a0a5-4ce20ada6114",
   "metadata": {},
   "outputs": [
    {
     "data": {
      "text/plain": [
       "986"
      ]
     },
     "execution_count": 12,
     "metadata": {},
     "output_type": "execute_result"
    }
   ],
   "source": [
    "len(clean_df)"
   ]
  },
  {
   "cell_type": "code",
   "execution_count": 11,
   "id": "79d4c7e9-4790-403e-b917-b2e7ab8c9e18",
   "metadata": {},
   "outputs": [],
   "source": [
    "clean_df.to_csv(\"compras_medicinas_2022-2023.csv\", index=False)"
   ]
  },
  {
   "cell_type": "code",
   "execution_count": null,
   "id": "c2e2ab65-8e5a-43bb-9ab5-070620ed5713",
   "metadata": {},
   "outputs": [],
   "source": []
  }
 ],
 "metadata": {
  "kernelspec": {
   "display_name": "Python 3 (ipykernel)",
   "language": "python",
   "name": "python3"
  },
  "language_info": {
   "codemirror_mode": {
    "name": "ipython",
    "version": 3
   },
   "file_extension": ".py",
   "mimetype": "text/x-python",
   "name": "python",
   "nbconvert_exporter": "python",
   "pygments_lexer": "ipython3",
   "version": "3.12.10"
  }
 },
 "nbformat": 4,
 "nbformat_minor": 5
}
