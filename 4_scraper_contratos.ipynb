{
 "cells": [
  {
   "cell_type": "markdown",
   "id": "057ca497-2e37-478f-8f9b-788530f46f2d",
   "metadata": {},
   "source": [
    "# Scraper para los pdfs de los convenios"
   ]
  },
  {
   "cell_type": "code",
   "execution_count": 19,
   "id": "58a16308-8f67-4780-8076-d1b139afc2d1",
   "metadata": {},
   "outputs": [],
   "source": [
    "from playwright.async_api import async_playwright\n",
    "from bs4 import BeautifulSoup\n",
    "import pandas as pd\n",
    "import asyncio\n",
    "import os"
   ]
  },
  {
   "cell_type": "code",
   "execution_count": 2,
   "id": "4dedee7f-26f2-4db0-a90e-c0d5c8b23cf2",
   "metadata": {},
   "outputs": [],
   "source": [
    "df = pd.read_csv(\"data/raw/complete_scraped_data.csv\")"
   ]
  },
  {
   "cell_type": "code",
   "execution_count": 3,
   "id": "3e162593-b5f7-43a9-b69e-ab184d8f01a1",
   "metadata": {},
   "outputs": [],
   "source": [
    "adjudicados = df[df[\"estado\"].str.contains(\"Adjudicado\")].reset_index()"
   ]
  },
  {
   "cell_type": "code",
   "execution_count": 4,
   "id": "a653eab1-6156-40cf-b74b-2cae3d6a4420",
   "metadata": {},
   "outputs": [
    {
     "data": {
      "text/plain": [
       "414"
      ]
     },
     "execution_count": 4,
     "metadata": {},
     "output_type": "execute_result"
    }
   ],
   "source": [
    "len(adjudicados) #just the processes that have a contract"
   ]
  },
  {
   "cell_type": "code",
   "execution_count": 5,
   "id": "fe1a06a6-d362-4617-ab90-e51a2785d713",
   "metadata": {},
   "outputs": [
    {
     "data": {
      "text/html": [
       "<div>\n",
       "<style scoped>\n",
       "    .dataframe tbody tr th:only-of-type {\n",
       "        vertical-align: middle;\n",
       "    }\n",
       "\n",
       "    .dataframe tbody tr th {\n",
       "        vertical-align: top;\n",
       "    }\n",
       "\n",
       "    .dataframe thead th {\n",
       "        text-align: right;\n",
       "    }\n",
       "</style>\n",
       "<table border=\"1\" class=\"dataframe\">\n",
       "  <thead>\n",
       "    <tr style=\"text-align: right;\">\n",
       "      <th></th>\n",
       "      <th>index</th>\n",
       "      <th>codigo</th>\n",
       "      <th>detalle_url</th>\n",
       "      <th>entidad</th>\n",
       "      <th>objeto</th>\n",
       "      <th>estado</th>\n",
       "      <th>ubicacion</th>\n",
       "      <th>presupuesto</th>\n",
       "      <th>fecha_publicacion</th>\n",
       "      <th>semestre</th>\n",
       "      <th>...</th>\n",
       "      <th>principio_activo</th>\n",
       "      <th>forma_farmaceutica</th>\n",
       "      <th>concentracion</th>\n",
       "      <th>presentacion</th>\n",
       "      <th>cantidad</th>\n",
       "      <th>precio_referencial</th>\n",
       "      <th>subtotal</th>\n",
       "      <th>proveedor_adjudicado</th>\n",
       "      <th>valor_adjudicado</th>\n",
       "      <th>fecha_adjudicacion</th>\n",
       "    </tr>\n",
       "  </thead>\n",
       "  <tbody>\n",
       "    <tr>\n",
       "      <th>0</th>\n",
       "      <td>2</td>\n",
       "      <td>SICM-500-2022</td>\n",
       "      <td>https://modulocomprascorporativas.compraspubli...</td>\n",
       "      <td>SERVICIO NACIONAL DE CONTRATACION PUBLICA</td>\n",
       "      <td>DCI: LIDOCAÍNA SIN EPINEFRINA - FORMA FARMACÉU...</td>\n",
       "      <td>Adjudicado oferente ganador</td>\n",
       "      <td>PICHINCHA / QUITO</td>\n",
       "      <td>$5.00000</td>\n",
       "      <td>2022-06-23 08:00:00</td>\n",
       "      <td>First 2022</td>\n",
       "      <td>...</td>\n",
       "      <td>Lidocaína sin epinefrina</td>\n",
       "      <td>Sólido cutáneo (Parche transdérmico)</td>\n",
       "      <td>5 %</td>\n",
       "      <td>Caja x parche/parches</td>\n",
       "      <td>184631.0</td>\n",
       "      <td>USD 5.000000</td>\n",
       "      <td>USD 923,155.000000</td>\n",
       "      <td>GRUNENTHAL ECUATORIANA CIA LTDA</td>\n",
       "      <td>USD 2.990000</td>\n",
       "      <td>2022-09-05 13:11:06</td>\n",
       "    </tr>\n",
       "    <tr>\n",
       "      <th>1</th>\n",
       "      <td>9</td>\n",
       "      <td>SICM-519-2022</td>\n",
       "      <td>https://modulocomprascorporativas.compraspubli...</td>\n",
       "      <td>SERVICIO NACIONAL DE CONTRATACION PUBLICA</td>\n",
       "      <td>DCI: LOPINAVIR + RITONAVIR - FORMA FARMACÉUTIC...</td>\n",
       "      <td>Adjudicado otros oferentes</td>\n",
       "      <td>PICHINCHA / QUITO</td>\n",
       "      <td>$0.27000</td>\n",
       "      <td>2022-06-23 08:00:00</td>\n",
       "      <td>First 2022</td>\n",
       "      <td>...</td>\n",
       "      <td>Lopinavir + Ritonavir</td>\n",
       "      <td>Sólido oral</td>\n",
       "      <td>200 mg + 50 mg</td>\n",
       "      <td>Caja x frasco dosis personal, no envase hospit...</td>\n",
       "      <td>89200.0</td>\n",
       "      <td>USD 0.270000</td>\n",
       "      <td>USD 24,084.000000</td>\n",
       "      <td>FARMAYALA PHARMACEUTICAL COMPANY S.A. FPC</td>\n",
       "      <td>USD 0.264626</td>\n",
       "      <td>2022-12-21 13:25:27</td>\n",
       "    </tr>\n",
       "    <tr>\n",
       "      <th>2</th>\n",
       "      <td>10</td>\n",
       "      <td>SICM-520-2022</td>\n",
       "      <td>https://modulocomprascorporativas.compraspubli...</td>\n",
       "      <td>SERVICIO NACIONAL DE CONTRATACION PUBLICA</td>\n",
       "      <td>DCI: TENOFOVIR + EMTRICITABINA - FORMA FARMACÉ...</td>\n",
       "      <td>Adjudicado otros oferentes</td>\n",
       "      <td>PICHINCHA / QUITO</td>\n",
       "      <td>$0.43854</td>\n",
       "      <td>2022-06-23 08:00:00</td>\n",
       "      <td>First 2022</td>\n",
       "      <td>...</td>\n",
       "      <td>Tenofovir + Emtricitabina</td>\n",
       "      <td>Sólido oral</td>\n",
       "      <td>300 mg + 200 mg</td>\n",
       "      <td>Caja x frasco</td>\n",
       "      <td>189144.0</td>\n",
       "      <td>USD 0.438544</td>\n",
       "      <td>USD 82,947.966336</td>\n",
       "      <td>LABORATORIOS LACFARMA S.A.</td>\n",
       "      <td>USD 0.327000</td>\n",
       "      <td>2022-12-08 16:42:39</td>\n",
       "    </tr>\n",
       "    <tr>\n",
       "      <th>3</th>\n",
       "      <td>11</td>\n",
       "      <td>SICM-503-2022</td>\n",
       "      <td>https://modulocomprascorporativas.compraspubli...</td>\n",
       "      <td>SERVICIO NACIONAL DE CONTRATACION PUBLICA</td>\n",
       "      <td>DCI: MEGLUMINA ANTIMONIATO - FORMA FARMACÉUTIC...</td>\n",
       "      <td>Adjudicado oferente ganador</td>\n",
       "      <td>PICHINCHA / QUITO</td>\n",
       "      <td>$3.79707</td>\n",
       "      <td>2022-06-23 08:00:00</td>\n",
       "      <td>First 2022</td>\n",
       "      <td>...</td>\n",
       "      <td>Meglumina antimoniato</td>\n",
       "      <td>Líquido parenteral</td>\n",
       "      <td>300 mg/mL</td>\n",
       "      <td>Caja x ampolla(s) x 5 mL</td>\n",
       "      <td>18500.0</td>\n",
       "      <td>USD 3.797072</td>\n",
       "      <td>USD 70,245.832000</td>\n",
       "      <td>OFTALVIS S.A.</td>\n",
       "      <td>USD 3.560000</td>\n",
       "      <td>2022-09-05 16:36:02</td>\n",
       "    </tr>\n",
       "    <tr>\n",
       "      <th>4</th>\n",
       "      <td>12</td>\n",
       "      <td>SICM-504-2022</td>\n",
       "      <td>https://modulocomprascorporativas.compraspubli...</td>\n",
       "      <td>SERVICIO NACIONAL DE CONTRATACION PUBLICA</td>\n",
       "      <td>DCI: MESALAZINA - FORMA FARMACÉUTICA: SÓLIDO O...</td>\n",
       "      <td>Adjudicado oferente ganador</td>\n",
       "      <td>PICHINCHA / QUITO</td>\n",
       "      <td>$1.30837</td>\n",
       "      <td>2022-06-23 08:00:00</td>\n",
       "      <td>First 2022</td>\n",
       "      <td>...</td>\n",
       "      <td>Mesalazina</td>\n",
       "      <td>Sólido oral (polvo)</td>\n",
       "      <td>1 000 mg</td>\n",
       "      <td>Caja x sobres/sachets</td>\n",
       "      <td>199725.0</td>\n",
       "      <td>USD 1.308369</td>\n",
       "      <td>USD 261,313.998525</td>\n",
       "      <td>NEOETHICALS CIA. LTDA.</td>\n",
       "      <td>USD 0.850000</td>\n",
       "      <td>2022-09-21 13:16:40</td>\n",
       "    </tr>\n",
       "  </tbody>\n",
       "</table>\n",
       "<p>5 rows × 21 columns</p>\n",
       "</div>"
      ],
      "text/plain": [
       "   index         codigo                                        detalle_url  \\\n",
       "0      2  SICM-500-2022  https://modulocomprascorporativas.compraspubli...   \n",
       "1      9  SICM-519-2022  https://modulocomprascorporativas.compraspubli...   \n",
       "2     10  SICM-520-2022  https://modulocomprascorporativas.compraspubli...   \n",
       "3     11  SICM-503-2022  https://modulocomprascorporativas.compraspubli...   \n",
       "4     12  SICM-504-2022  https://modulocomprascorporativas.compraspubli...   \n",
       "\n",
       "                                     entidad  \\\n",
       "0  SERVICIO NACIONAL DE CONTRATACION PUBLICA   \n",
       "1  SERVICIO NACIONAL DE CONTRATACION PUBLICA   \n",
       "2  SERVICIO NACIONAL DE CONTRATACION PUBLICA   \n",
       "3  SERVICIO NACIONAL DE CONTRATACION PUBLICA   \n",
       "4  SERVICIO NACIONAL DE CONTRATACION PUBLICA   \n",
       "\n",
       "                                              objeto  \\\n",
       "0  DCI: LIDOCAÍNA SIN EPINEFRINA - FORMA FARMACÉU...   \n",
       "1  DCI: LOPINAVIR + RITONAVIR - FORMA FARMACÉUTIC...   \n",
       "2  DCI: TENOFOVIR + EMTRICITABINA - FORMA FARMACÉ...   \n",
       "3  DCI: MEGLUMINA ANTIMONIATO - FORMA FARMACÉUTIC...   \n",
       "4  DCI: MESALAZINA - FORMA FARMACÉUTICA: SÓLIDO O...   \n",
       "\n",
       "                        estado          ubicacion presupuesto  \\\n",
       "0  Adjudicado oferente ganador  PICHINCHA / QUITO    $5.00000   \n",
       "1   Adjudicado otros oferentes  PICHINCHA / QUITO    $0.27000   \n",
       "2   Adjudicado otros oferentes  PICHINCHA / QUITO    $0.43854   \n",
       "3  Adjudicado oferente ganador  PICHINCHA / QUITO    $3.79707   \n",
       "4  Adjudicado oferente ganador  PICHINCHA / QUITO    $1.30837   \n",
       "\n",
       "     fecha_publicacion    semestre  ...           principio_activo  \\\n",
       "0  2022-06-23 08:00:00  First 2022  ...   Lidocaína sin epinefrina   \n",
       "1  2022-06-23 08:00:00  First 2022  ...      Lopinavir + Ritonavir   \n",
       "2  2022-06-23 08:00:00  First 2022  ...  Tenofovir + Emtricitabina   \n",
       "3  2022-06-23 08:00:00  First 2022  ...      Meglumina antimoniato   \n",
       "4  2022-06-23 08:00:00  First 2022  ...                 Mesalazina   \n",
       "\n",
       "                     forma_farmaceutica    concentracion  \\\n",
       "0  Sólido cutáneo (Parche transdérmico)              5 %   \n",
       "1                           Sólido oral   200 mg + 50 mg   \n",
       "2                           Sólido oral  300 mg + 200 mg   \n",
       "3                    Líquido parenteral        300 mg/mL   \n",
       "4                   Sólido oral (polvo)         1 000 mg   \n",
       "\n",
       "                                        presentacion  cantidad  \\\n",
       "0                              Caja x parche/parches  184631.0   \n",
       "1  Caja x frasco dosis personal, no envase hospit...   89200.0   \n",
       "2                                      Caja x frasco  189144.0   \n",
       "3                           Caja x ampolla(s) x 5 mL   18500.0   \n",
       "4                              Caja x sobres/sachets  199725.0   \n",
       "\n",
       "   precio_referencial            subtotal  \\\n",
       "0        USD 5.000000  USD 923,155.000000   \n",
       "1        USD 0.270000   USD 24,084.000000   \n",
       "2        USD 0.438544   USD 82,947.966336   \n",
       "3        USD 3.797072   USD 70,245.832000   \n",
       "4        USD 1.308369  USD 261,313.998525   \n",
       "\n",
       "                        proveedor_adjudicado valor_adjudicado  \\\n",
       "0            GRUNENTHAL ECUATORIANA CIA LTDA     USD 2.990000   \n",
       "1  FARMAYALA PHARMACEUTICAL COMPANY S.A. FPC     USD 0.264626   \n",
       "2                 LABORATORIOS LACFARMA S.A.     USD 0.327000   \n",
       "3                              OFTALVIS S.A.     USD 3.560000   \n",
       "4                     NEOETHICALS CIA. LTDA.     USD 0.850000   \n",
       "\n",
       "    fecha_adjudicacion  \n",
       "0  2022-09-05 13:11:06  \n",
       "1  2022-12-21 13:25:27  \n",
       "2  2022-12-08 16:42:39  \n",
       "3  2022-09-05 16:36:02  \n",
       "4  2022-09-21 13:16:40  \n",
       "\n",
       "[5 rows x 21 columns]"
      ]
     },
     "execution_count": 5,
     "metadata": {},
     "output_type": "execute_result"
    }
   ],
   "source": [
    "adjudicados.head()"
   ]
  },
  {
   "cell_type": "code",
   "execution_count": 6,
   "id": "850cb1ad-b46e-436e-8ea2-ba4d444fa0c8",
   "metadata": {},
   "outputs": [],
   "source": [
    "os.makedirs('convenios/', exist_ok=True)"
   ]
  },
  {
   "cell_type": "markdown",
   "id": "39d1f2dd-2357-494d-9ad4-f8feeee4d1da",
   "metadata": {},
   "source": [
    "## Build the scraper"
   ]
  },
  {
   "cell_type": "code",
   "execution_count": 7,
   "id": "0d697e6a-087c-43ca-bb75-b35fc69ff57d",
   "metadata": {},
   "outputs": [],
   "source": [
    "url = adjudicados[\"detalle_url\"][1]\n",
    "user_agent = \"Mozilla/5.0 (Windows NT 10.0; Win64; x64) AppleWebKit/537.36 (KHTML, like Gecko) Chrome/123.0.0.0 Safari/537.36\""
   ]
  },
  {
   "cell_type": "code",
   "execution_count": 20,
   "id": "95131951-16cd-4227-9431-c7a759f1fe61",
   "metadata": {},
   "outputs": [
    {
     "data": {
      "text/plain": [
       "<Response url='https://modulocomprascorporativas.compraspublicas.gob.ec/ProcesoContratacion/compras/PC/informacionProcesoContratacion2.cpe?idSoliCompra=7tz1Uy9NWcxvXO8vn5JfB5Mskdl3KZqKTK2qW5sslYI,' request=<Request url='https://modulocomprascorporativas.compraspublicas.gob.ec/ProcesoContratacion/compras/PC/informacionProcesoContratacion2.cpe?idSoliCompra=7tz1Uy9NWcxvXO8vn5JfB5Mskdl3KZqKTK2qW5sslYI,' method='GET'>>"
      ]
     },
     "execution_count": 20,
     "metadata": {},
     "output_type": "execute_result"
    }
   ],
   "source": [
    "playwright = await async_playwright().start()\n",
    "browser = await playwright.chromium.launch(headless=False)\n",
    "page = await browser.new_page(user_agent=user_agent)\n",
    "\n",
    "url = adjudicados[\"detalle_url\"][1]\n",
    "await page.goto(url)\n",
    "await asyncio.sleep(3)\n",
    "await page.goto(url)"
   ]
  },
  {
   "cell_type": "code",
   "execution_count": 9,
   "id": "748a286c-1ed1-49fc-8966-810db44f8ee4",
   "metadata": {},
   "outputs": [
    {
     "name": "stdout",
     "output_type": "stream",
     "text": [
      "Processing index: 36, https://modulocomprascorporativas.compraspublicas.gob.ec/ProcesoContratacion/compras/PC/informacionProcesoContratacion2.cpe?idSoliCompra=1mz2bK48ZtXxjRoeu827fF9Sl432Dzg_fPFPxLLepB4,Error at index 36, https://modulocomprascorporativas.compraspublicas.gob.ec/ProcesoContratacion/compras/PC/informacionProcesoContratacion2.cpe?idSoliCompra=1mz2bK48ZtXxjRoeu827fF9Sl432Dzg_fPFPxLLepB4,\n",
      "Processing index: 43, https://modulocomprascorporativas.compraspublicas.gob.ec/ProcesoContratacion/compras/PC/informacionProcesoContratacion2.cpe?idSoliCompra=lZqmJ3SKr900nPPYiYNw3RKP4duD5mUbo7k3MFI_qp4,Error at index 43, https://modulocomprascorporativas.compraspublicas.gob.ec/ProcesoContratacion/compras/PC/informacionProcesoContratacion2.cpe?idSoliCompra=lZqmJ3SKr900nPPYiYNw3RKP4duD5mUbo7k3MFI_qp4,\n",
      "Processing index: 45, https://modulocomprascorporativas.compraspublicas.gob.ec/ProcesoContratacion/compras/PC/informacionProcesoContratacion2.cpe?idSoliCompra=5jA4rTA71S7IlEUGsERH0QtOzWVMiYHFYC1-eXBsGSw,Error at index 45, https://modulocomprascorporativas.compraspublicas.gob.ec/ProcesoContratacion/compras/PC/informacionProcesoContratacion2.cpe?idSoliCompra=5jA4rTA71S7IlEUGsERH0QtOzWVMiYHFYC1-eXBsGSw,\n",
      "Processing index: 46, https://modulocomprascorporativas.compraspublicas.gob.ec/ProcesoContratacion/compras/PC/informacionProcesoContratacion2.cpe?idSoliCompra=8hELZ3zZ2zuPgDLzVmUuW67l7HLC5YEPxgUYyeBSqeg,Error at index 46, https://modulocomprascorporativas.compraspublicas.gob.ec/ProcesoContratacion/compras/PC/informacionProcesoContratacion2.cpe?idSoliCompra=8hELZ3zZ2zuPgDLzVmUuW67l7HLC5YEPxgUYyeBSqeg,\n",
      "Processing index: 47, https://modulocomprascorporativas.compraspublicas.gob.ec/ProcesoContratacion/compras/PC/informacionProcesoContratacion2.cpe?idSoliCompra=6jRpv0BXs9fa2fqfSXpsVSpMtwgkNWS2fCtuWheBdLw,Error at index 47, https://modulocomprascorporativas.compraspublicas.gob.ec/ProcesoContratacion/compras/PC/informacionProcesoContratacion2.cpe?idSoliCompra=6jRpv0BXs9fa2fqfSXpsVSpMtwgkNWS2fCtuWheBdLw,\n",
      "Processing index: 48, https://modulocomprascorporativas.compraspublicas.gob.ec/ProcesoContratacion/compras/PC/informacionProcesoContratacion2.cpe?idSoliCompra=_O9jYxiPNpbgEDv4jgozSopZftBDpxuhDZlUZQRix60,Error at index 48, https://modulocomprascorporativas.compraspublicas.gob.ec/ProcesoContratacion/compras/PC/informacionProcesoContratacion2.cpe?idSoliCompra=_O9jYxiPNpbgEDv4jgozSopZftBDpxuhDZlUZQRix60,\n",
      "Processing index: 50, https://modulocomprascorporativas.compraspublicas.gob.ec/ProcesoContratacion/compras/PC/informacionProcesoContratacion2.cpe?idSoliCompra=YkiBn-hpEdTW3lccHzzOEA1MikFT4DcnmfT77m0m7xE,Error at index 50, https://modulocomprascorporativas.compraspublicas.gob.ec/ProcesoContratacion/compras/PC/informacionProcesoContratacion2.cpe?idSoliCompra=YkiBn-hpEdTW3lccHzzOEA1MikFT4DcnmfT77m0m7xE,\n",
      "Processing index: 51, https://modulocomprascorporativas.compraspublicas.gob.ec/ProcesoContratacion/compras/PC/informacionProcesoContratacion2.cpe?idSoliCompra=E72aA3sDBOlp9rs0Ah81o-OgIv6BhjC2SCiSK3ZMThs,Error at index 51, https://modulocomprascorporativas.compraspublicas.gob.ec/ProcesoContratacion/compras/PC/informacionProcesoContratacion2.cpe?idSoliCompra=E72aA3sDBOlp9rs0Ah81o-OgIv6BhjC2SCiSK3ZMThs,\n",
      "Processing index: 81, https://modulocomprascorporativas.compraspublicas.gob.ec/ProcesoContratacion/compras/PC/informacionProcesoContratacion2.cpe?idSoliCompra=nPkPvD6Qih4iP25mcek_l80P0qYviNuAOE1Qdz4y29E,Error at index 81, https://modulocomprascorporativas.compraspublicas.gob.ec/ProcesoContratacion/compras/PC/informacionProcesoContratacion2.cpe?idSoliCompra=nPkPvD6Qih4iP25mcek_l80P0qYviNuAOE1Qdz4y29E,\n",
      "Processing index: 82, https://modulocomprascorporativas.compraspublicas.gob.ec/ProcesoContratacion/compras/PC/informacionProcesoContratacion2.cpe?idSoliCompra=XR2gxCLp5fi9MafX9ptGJXP98RTAE3u8tDdBOFyYDvs,Error at index 82, https://modulocomprascorporativas.compraspublicas.gob.ec/ProcesoContratacion/compras/PC/informacionProcesoContratacion2.cpe?idSoliCompra=XR2gxCLp5fi9MafX9ptGJXP98RTAE3u8tDdBOFyYDvs,\n",
      "Processing index: 94, https://modulocomprascorporativas.compraspublicas.gob.ec/ProcesoContratacion/compras/PC/informacionProcesoContratacion2.cpe?idSoliCompra=5b_F4Jm7gPG-O-ivLA18vfRRu0HINasSVxn0oRKHMJ0,Error at index 94, https://modulocomprascorporativas.compraspublicas.gob.ec/ProcesoContratacion/compras/PC/informacionProcesoContratacion2.cpe?idSoliCompra=5b_F4Jm7gPG-O-ivLA18vfRRu0HINasSVxn0oRKHMJ0,\n",
      "Processing index: 95, https://modulocomprascorporativas.compraspublicas.gob.ec/ProcesoContratacion/compras/PC/informacionProcesoContratacion2.cpe?idSoliCompra=Jr6qaH_TpB6zNYg8J2dn9ptt9NrJbYS28IEgvMFjhCc,Error at index 95, https://modulocomprascorporativas.compraspublicas.gob.ec/ProcesoContratacion/compras/PC/informacionProcesoContratacion2.cpe?idSoliCompra=Jr6qaH_TpB6zNYg8J2dn9ptt9NrJbYS28IEgvMFjhCc,\n",
      "Processing index: 96, https://modulocomprascorporativas.compraspublicas.gob.ec/ProcesoContratacion/compras/PC/informacionProcesoContratacion2.cpe?idSoliCompra=AvBblt-Dk8aSUHKDp9rz8GuyT81paDK_CSrJwGLNFrs,Error at index 96, https://modulocomprascorporativas.compraspublicas.gob.ec/ProcesoContratacion/compras/PC/informacionProcesoContratacion2.cpe?idSoliCompra=AvBblt-Dk8aSUHKDp9rz8GuyT81paDK_CSrJwGLNFrs,\n",
      "Processing index: 97, https://modulocomprascorporativas.compraspublicas.gob.ec/ProcesoContratacion/compras/PC/informacionProcesoContratacion2.cpe?idSoliCompra=Tur9s-cMV1As0rxkP2vwuxK8OyM4TvC7Wp5cTCFvbRc,Error at index 97, https://modulocomprascorporativas.compraspublicas.gob.ec/ProcesoContratacion/compras/PC/informacionProcesoContratacion2.cpe?idSoliCompra=Tur9s-cMV1As0rxkP2vwuxK8OyM4TvC7Wp5cTCFvbRc,\n",
      "Processing index: 98, https://modulocomprascorporativas.compraspublicas.gob.ec/ProcesoContratacion/compras/PC/informacionProcesoContratacion2.cpe?idSoliCompra=sYGKiTOfi3-2fidlUlOo7NS2Mgo1N4dUp4ykQgAgAB0,Error at index 98, https://modulocomprascorporativas.compraspublicas.gob.ec/ProcesoContratacion/compras/PC/informacionProcesoContratacion2.cpe?idSoliCompra=sYGKiTOfi3-2fidlUlOo7NS2Mgo1N4dUp4ykQgAgAB0,\n",
      "Processing index: 99, https://modulocomprascorporativas.compraspublicas.gob.ec/ProcesoContratacion/compras/PC/informacionProcesoContratacion2.cpe?idSoliCompra=_p6DurhkH1egyPGIh-7TwPsgzfK7Pm86HnTKVzwKa6Q,Error at index 99, https://modulocomprascorporativas.compraspublicas.gob.ec/ProcesoContratacion/compras/PC/informacionProcesoContratacion2.cpe?idSoliCompra=_p6DurhkH1egyPGIh-7TwPsgzfK7Pm86HnTKVzwKa6Q,\n",
      "Processing index: 100, https://modulocomprascorporativas.compraspublicas.gob.ec/ProcesoContratacion/compras/PC/informacionProcesoContratacion2.cpe?idSoliCompra=7hzuLUCj46y08uwnFAlNnR5OU85K2LM5eXf39xGfI34,Error at index 100, https://modulocomprascorporativas.compraspublicas.gob.ec/ProcesoContratacion/compras/PC/informacionProcesoContratacion2.cpe?idSoliCompra=7hzuLUCj46y08uwnFAlNnR5OU85K2LM5eXf39xGfI34,\n",
      "Processing index: 101, https://modulocomprascorporativas.compraspublicas.gob.ec/ProcesoContratacion/compras/PC/informacionProcesoContratacion2.cpe?idSoliCompra=dBmu1RoPUl9W7D_9THYLwn4wtzI41QjKUSQ61UoHQyE,Error at index 101, https://modulocomprascorporativas.compraspublicas.gob.ec/ProcesoContratacion/compras/PC/informacionProcesoContratacion2.cpe?idSoliCompra=dBmu1RoPUl9W7D_9THYLwn4wtzI41QjKUSQ61UoHQyE,\n",
      "Processing index: 102, https://modulocomprascorporativas.compraspublicas.gob.ec/ProcesoContratacion/compras/PC/informacionProcesoContratacion2.cpe?idSoliCompra=MHwabI39fV-92HsQJIgj_DrIWFyoQ4Mg2D6oOxZ295k,Error at index 102, https://modulocomprascorporativas.compraspublicas.gob.ec/ProcesoContratacion/compras/PC/informacionProcesoContratacion2.cpe?idSoliCompra=MHwabI39fV-92HsQJIgj_DrIWFyoQ4Mg2D6oOxZ295k,\n",
      "Processing index: 103, https://modulocomprascorporativas.compraspublicas.gob.ec/ProcesoContratacion/compras/PC/informacionProcesoContratacion2.cpe?idSoliCompra=OAjGOpOsirySe2ozJHzyJs4JVjJR0-nO5uIuGREydPw,Error at index 103, https://modulocomprascorporativas.compraspublicas.gob.ec/ProcesoContratacion/compras/PC/informacionProcesoContratacion2.cpe?idSoliCompra=OAjGOpOsirySe2ozJHzyJs4JVjJR0-nO5uIuGREydPw,\n",
      "Processing index: 104, https://modulocomprascorporativas.compraspublicas.gob.ec/ProcesoContratacion/compras/PC/informacionProcesoContratacion2.cpe?idSoliCompra=kpeSqF-K4CT2M5g5oB3ObMpLdad9aGZ0rbEsevWaZZI,Error at index 104, https://modulocomprascorporativas.compraspublicas.gob.ec/ProcesoContratacion/compras/PC/informacionProcesoContratacion2.cpe?idSoliCompra=kpeSqF-K4CT2M5g5oB3ObMpLdad9aGZ0rbEsevWaZZI,\n",
      "Processing index: 106, https://modulocomprascorporativas.compraspublicas.gob.ec/ProcesoContratacion/compras/PC/informacionProcesoContratacion2.cpe?idSoliCompra=4Lqpmu2fCeOpDLalJJ0-PiKmGuOjwRb1hfoPvWKW6Bo,Error at index 106, https://modulocomprascorporativas.compraspublicas.gob.ec/ProcesoContratacion/compras/PC/informacionProcesoContratacion2.cpe?idSoliCompra=4Lqpmu2fCeOpDLalJJ0-PiKmGuOjwRb1hfoPvWKW6Bo,\n",
      "Processing index: 171, https://modulocomprascorporativas.compraspublicas.gob.ec/ProcesoContratacion/compras/PC/informacionProcesoContratacion2.cpe?idSoliCompra=XL-R5oQOu9WpKFqWAsDVUJqeMs4Z67Y4FROPjacY9Mc,Error at index 171, https://modulocomprascorporativas.compraspublicas.gob.ec/ProcesoContratacion/compras/PC/informacionProcesoContratacion2.cpe?idSoliCompra=XL-R5oQOu9WpKFqWAsDVUJqeMs4Z67Y4FROPjacY9Mc,\n",
      "Processing index: 183, https://modulocomprascorporativas.compraspublicas.gob.ec/ProcesoContratacion/compras/PC/informacionProcesoContratacion2.cpe?idSoliCompra=1QN62fI028kfxtmCizmqIkmzEuR9a5CvBBXnaE8JXTc,Error at index 183, https://modulocomprascorporativas.compraspublicas.gob.ec/ProcesoContratacion/compras/PC/informacionProcesoContratacion2.cpe?idSoliCompra=1QN62fI028kfxtmCizmqIkmzEuR9a5CvBBXnaE8JXTc,\n",
      "Processing index: 185, https://modulocomprascorporativas.compraspublicas.gob.ec/ProcesoContratacion/compras/PC/informacionProcesoContratacion2.cpe?idSoliCompra=i31bHN3hWWHCbjHjiaKa6ST9WIZNR1cx-XK4bFN0qBE,Error at index 185, https://modulocomprascorporativas.compraspublicas.gob.ec/ProcesoContratacion/compras/PC/informacionProcesoContratacion2.cpe?idSoliCompra=i31bHN3hWWHCbjHjiaKa6ST9WIZNR1cx-XK4bFN0qBE,\n",
      "Processing index: 187, https://modulocomprascorporativas.compraspublicas.gob.ec/ProcesoContratacion/compras/PC/informacionProcesoContratacion2.cpe?idSoliCompra=5fystIPqH_RVCbWAnMHw_qUYwJxn0gqxHsiLVy3kvlg,Error at index 187, https://modulocomprascorporativas.compraspublicas.gob.ec/ProcesoContratacion/compras/PC/informacionProcesoContratacion2.cpe?idSoliCompra=5fystIPqH_RVCbWAnMHw_qUYwJxn0gqxHsiLVy3kvlg,\n",
      "Processing index: 190, https://modulocomprascorporativas.compraspublicas.gob.ec/ProcesoContratacion/compras/PC/informacionProcesoContratacion2.cpe?idSoliCompra=M8bUGNejNYfGaZ6GKXK2sCeEKh_IQtJpDEs-1NScCGA,Error at index 190, https://modulocomprascorporativas.compraspublicas.gob.ec/ProcesoContratacion/compras/PC/informacionProcesoContratacion2.cpe?idSoliCompra=M8bUGNejNYfGaZ6GKXK2sCeEKh_IQtJpDEs-1NScCGA,\n",
      "Processing index: 192, https://modulocomprascorporativas.compraspublicas.gob.ec/ProcesoContratacion/compras/PC/informacionProcesoContratacion2.cpe?idSoliCompra=fi6fmfrYw-EBIKx4WEPY0WWJOWz73heqYiRa7Rpym50,Error at index 192, https://modulocomprascorporativas.compraspublicas.gob.ec/ProcesoContratacion/compras/PC/informacionProcesoContratacion2.cpe?idSoliCompra=fi6fmfrYw-EBIKx4WEPY0WWJOWz73heqYiRa7Rpym50,\n",
      "Processing index: 195, https://modulocomprascorporativas.compraspublicas.gob.ec/ProcesoContratacion/compras/PC/informacionProcesoContratacion2.cpe?idSoliCompra=gX5gJzIlprcEjFlMOa6BpvYAAGP8TepWBcziJGQaLG0,Error at index 195, https://modulocomprascorporativas.compraspublicas.gob.ec/ProcesoContratacion/compras/PC/informacionProcesoContratacion2.cpe?idSoliCompra=gX5gJzIlprcEjFlMOa6BpvYAAGP8TepWBcziJGQaLG0,\n",
      "Processing index: 197, https://modulocomprascorporativas.compraspublicas.gob.ec/ProcesoContratacion/compras/PC/informacionProcesoContratacion2.cpe?idSoliCompra=chnAk5dCM3APDchXCTz8uy8QGJFv05g5J8BiL10UcKI,Error at index 197, https://modulocomprascorporativas.compraspublicas.gob.ec/ProcesoContratacion/compras/PC/informacionProcesoContratacion2.cpe?idSoliCompra=chnAk5dCM3APDchXCTz8uy8QGJFv05g5J8BiL10UcKI,\n",
      "Processing index: 200, https://modulocomprascorporativas.compraspublicas.gob.ec/ProcesoContratacion/compras/PC/informacionProcesoContratacion2.cpe?idSoliCompra=AQojIzYKQx_zskM5Rf6irqqYzQ_Q5Pc1fSOK-OYtLgQ,Error at index 200, https://modulocomprascorporativas.compraspublicas.gob.ec/ProcesoContratacion/compras/PC/informacionProcesoContratacion2.cpe?idSoliCompra=AQojIzYKQx_zskM5Rf6irqqYzQ_Q5Pc1fSOK-OYtLgQ,\n",
      "Processing index: 201, https://modulocomprascorporativas.compraspublicas.gob.ec/ProcesoContratacion/compras/PC/informacionProcesoContratacion2.cpe?idSoliCompra=PXnGjkqhTQHvJnrRljXmeNWv4QD3kgocQP3rBDH_5mk,Error at index 201, https://modulocomprascorporativas.compraspublicas.gob.ec/ProcesoContratacion/compras/PC/informacionProcesoContratacion2.cpe?idSoliCompra=PXnGjkqhTQHvJnrRljXmeNWv4QD3kgocQP3rBDH_5mk,\n",
      "Processing index: 202, https://modulocomprascorporativas.compraspublicas.gob.ec/ProcesoContratacion/compras/PC/informacionProcesoContratacion2.cpe?idSoliCompra=WnuJVj3pOndLJ9TQSzyZjkBss5yNF01saKGCPm19VPo,Error at index 202, https://modulocomprascorporativas.compraspublicas.gob.ec/ProcesoContratacion/compras/PC/informacionProcesoContratacion2.cpe?idSoliCompra=WnuJVj3pOndLJ9TQSzyZjkBss5yNF01saKGCPm19VPo,\n",
      "Processing index: 204, https://modulocomprascorporativas.compraspublicas.gob.ec/ProcesoContratacion/compras/PC/informacionProcesoContratacion2.cpe?idSoliCompra=EaJoskjrKPCuPrY28o5hIqH9Jw8Q4pkzjy1yIRUHJlY,Error at index 204, https://modulocomprascorporativas.compraspublicas.gob.ec/ProcesoContratacion/compras/PC/informacionProcesoContratacion2.cpe?idSoliCompra=EaJoskjrKPCuPrY28o5hIqH9Jw8Q4pkzjy1yIRUHJlY,\n",
      "Processing index: 385, https://modulocomprascorporativas.compraspublicas.gob.ec/ProcesoContratacion/compras/PC/informacionProcesoContratacion2.cpe?idSoliCompra=t2I93SJPs_nvwyNIJ3d9wuOeTnRARJiF8_W-OaOxijU,Error at index 385, https://modulocomprascorporativas.compraspublicas.gob.ec/ProcesoContratacion/compras/PC/informacionProcesoContratacion2.cpe?idSoliCompra=t2I93SJPs_nvwyNIJ3d9wuOeTnRARJiF8_W-OaOxijU,\n",
      "Processing index: 388, https://modulocomprascorporativas.compraspublicas.gob.ec/ProcesoContratacion/compras/PC/informacionProcesoContratacion2.cpe?idSoliCompra=lZrxpKzL_foohBV8gJiKE17mLtqxZCIreHjMITfpaW8,Error at index 388, https://modulocomprascorporativas.compraspublicas.gob.ec/ProcesoContratacion/compras/PC/informacionProcesoContratacion2.cpe?idSoliCompra=lZrxpKzL_foohBV8gJiKE17mLtqxZCIreHjMITfpaW8,\n",
      "Processing index: 391, https://modulocomprascorporativas.compraspublicas.gob.ec/ProcesoContratacion/compras/PC/informacionProcesoContratacion2.cpe?idSoliCompra=Kb83Lf1cv5aD7rmRSjH5dqW66ZO97Et6AS8wdv8rKU0,Error at index 391, https://modulocomprascorporativas.compraspublicas.gob.ec/ProcesoContratacion/compras/PC/informacionProcesoContratacion2.cpe?idSoliCompra=Kb83Lf1cv5aD7rmRSjH5dqW66ZO97Et6AS8wdv8rKU0,\n",
      "Processing index: 394, https://modulocomprascorporativas.compraspublicas.gob.ec/ProcesoContratacion/compras/PC/informacionProcesoContratacion2.cpe?idSoliCompra=JJYDvSYK0bt63kdFC2DJmoHCT97jxjTutRnDwYICucc,Error at index 394, https://modulocomprascorporativas.compraspublicas.gob.ec/ProcesoContratacion/compras/PC/informacionProcesoContratacion2.cpe?idSoliCompra=JJYDvSYK0bt63kdFC2DJmoHCT97jxjTutRnDwYICucc,\n",
      "Processing index: 395, https://modulocomprascorporativas.compraspublicas.gob.ec/ProcesoContratacion/compras/PC/informacionProcesoContratacion2.cpe?idSoliCompra=ShXF18mESw3rQRdg3oHJjOu2S3oNiV0KjeOf2geCAoU,Error at index 395, https://modulocomprascorporativas.compraspublicas.gob.ec/ProcesoContratacion/compras/PC/informacionProcesoContratacion2.cpe?idSoliCompra=ShXF18mESw3rQRdg3oHJjOu2S3oNiV0KjeOf2geCAoU,\n",
      "Processing index: 396, https://modulocomprascorporativas.compraspublicas.gob.ec/ProcesoContratacion/compras/PC/informacionProcesoContratacion2.cpe?idSoliCompra=dLY6uWsl8pJbbkdNgQU2IF99l09X9zBOuBytbwg80vM,Error at index 396, https://modulocomprascorporativas.compraspublicas.gob.ec/ProcesoContratacion/compras/PC/informacionProcesoContratacion2.cpe?idSoliCompra=dLY6uWsl8pJbbkdNgQU2IF99l09X9zBOuBytbwg80vM,\n",
      "Processing index: 397, https://modulocomprascorporativas.compraspublicas.gob.ec/ProcesoContratacion/compras/PC/informacionProcesoContratacion2.cpe?idSoliCompra=mMERgvXFuW6Kle8WlUUKnrRGFYKYTwuNvBpIDNh0H3M,Error at index 397, https://modulocomprascorporativas.compraspublicas.gob.ec/ProcesoContratacion/compras/PC/informacionProcesoContratacion2.cpe?idSoliCompra=mMERgvXFuW6Kle8WlUUKnrRGFYKYTwuNvBpIDNh0H3M,\n",
      "Processing index: 398, https://modulocomprascorporativas.compraspublicas.gob.ec/ProcesoContratacion/compras/PC/informacionProcesoContratacion2.cpe?idSoliCompra=cd-UskRHsBWFlyi1jAKRghA6fsxzUr0WvqM1pZkeiDc,Error at index 398, https://modulocomprascorporativas.compraspublicas.gob.ec/ProcesoContratacion/compras/PC/informacionProcesoContratacion2.cpe?idSoliCompra=cd-UskRHsBWFlyi1jAKRghA6fsxzUr0WvqM1pZkeiDc,\n",
      "Processing index: 407, https://modulocomprascorporativas.compraspublicas.gob.ec/ProcesoContratacion/compras/PC/informacionProcesoContratacion2.cpe?idSoliCompra=2zHEVsAwAVjuz8ZJKKS7lgp7pnJ_8JNm37jNVNnfKH4,Error at index 407, https://modulocomprascorporativas.compraspublicas.gob.ec/ProcesoContratacion/compras/PC/informacionProcesoContratacion2.cpe?idSoliCompra=2zHEVsAwAVjuz8ZJKKS7lgp7pnJ_8JNm37jNVNnfKH4,\n",
      "Processing index: 411, https://modulocomprascorporativas.compraspublicas.gob.ec/ProcesoContratacion/compras/PC/informacionProcesoContratacion2.cpe?idSoliCompra=nW3e5q1dfkXGKenYA3NULmCsTRkFXMas085_juHlkT8,Error at index 411, https://modulocomprascorporativas.compraspublicas.gob.ec/ProcesoContratacion/compras/PC/informacionProcesoContratacion2.cpe?idSoliCompra=nW3e5q1dfkXGKenYA3NULmCsTRkFXMas085_juHlkT8,\n",
      "Processing index: 413, https://modulocomprascorporativas.compraspublicas.gob.ec/ProcesoContratacion/compras/PC/informacionProcesoContratacion2.cpe?idSoliCompra=An4XHei0IXQTFuOyb5NVzIsUmwZGcoqBgmiPywJeOWw,"
     ]
    }
   ],
   "source": [
    "for i, row in adjudicados.iterrows():\n",
    "    \n",
    "    url = row[\"detalle_url\"]\n",
    "    code = row[\"codigo\"]\n",
    "\n",
    "    filename = f\"{code}.pdf\"\n",
    "    save_path = f\"convenios/{filename}\"\n",
    "\n",
    "    await asyncio.sleep(1)\n",
    "    print(f\"\\rProcessing index: {i}, {url}\", end=\"\")\n",
    "        \n",
    "    await page.goto(url, timeout=10000)\n",
    "    await asyncio.sleep(2)\n",
    "            \n",
    "    await page.wait_for_selector(\"#tab4\", state=\"visible\", timeout=10000)\n",
    "    await page.eval_on_selector(\"#tab4\", \"el => el.click()\")\n",
    "    await asyncio.sleep(1)\n",
    "    \n",
    "    html = await page.content()\n",
    "    soup = BeautifulSoup(html, \"lxml\")\n",
    "\n",
    "    try:\n",
    "        download_link_locator = page.locator(\n",
    "            \"//tr[translate(normalize-space(td[1]), 'ABCDEFGHIJKLMNOPQRSTUVWXYZ', 'abcdefghijklmnopqrstuvwxyz')='convenio marco']//a[contains(@href, 'bajarArchivo.cpe')]\"\n",
    "        )\n",
    "        assert await download_link_locator.count() == 1, \"Expected exactly one CONVENIO MARCO link.\"\n",
    "        \n",
    "        async with page.expect_download() as download_info:\n",
    "            await download_link_locator.click()\n",
    "\n",
    "        download = await download_info.value\n",
    "        await download.save_as(save_path)\n",
    "\n",
    "        adjudicados.at[i, \"contrato\"] = \"SI\"\n",
    "    \n",
    "    except:\n",
    "        print(f\"Error at index {i}, {url}\")\n",
    "        adjudicados.at[i, \"contrato\"] = \"NO\""
   ]
  },
  {
   "cell_type": "code",
   "execution_count": 10,
   "id": "bacf3ea4-fa3e-457f-b260-9a98d35c0a89",
   "metadata": {},
   "outputs": [],
   "source": [
    "os.makedirs('data/process', exist_ok=True)"
   ]
  },
  {
   "cell_type": "code",
   "execution_count": 11,
   "id": "e5a3d9b7-fcd7-442d-9038-59342f19d812",
   "metadata": {},
   "outputs": [],
   "source": [
    "adjudicados.to_csv(\"data/process/adjudicados_contratos.csv\", index=False)"
   ]
  },
  {
   "cell_type": "code",
   "execution_count": 12,
   "id": "42e138dd-c991-4cff-ac4f-90501708b20a",
   "metadata": {},
   "outputs": [
    {
     "data": {
      "text/plain": [
       "44"
      ]
     },
     "execution_count": 12,
     "metadata": {},
     "output_type": "execute_result"
    }
   ],
   "source": [
    "len(adjudicados[adjudicados[\"contrato\"] == \"NO\"])"
   ]
  },
  {
   "cell_type": "code",
   "execution_count": 16,
   "id": "e8f23368-ed6d-4221-8b31-f91bfe48558d",
   "metadata": {},
   "outputs": [
    {
     "data": {
      "text/plain": [
       "'https://modulocomprascorporativas.compraspublicas.gob.ec/ProcesoContratacion/compras/PC/informacionProcesoContratacion2.cpe?idSoliCompra=1mz2bK48ZtXxjRoeu827fF9Sl432Dzg_fPFPxLLepB4,'"
      ]
     },
     "execution_count": 16,
     "metadata": {},
     "output_type": "execute_result"
    }
   ],
   "source": [
    "adjudicados[adjudicados[\"contrato\"] == \"NO\"][\"detalle_url\"][36] #check one failed process"
   ]
  },
  {
   "cell_type": "code",
   "execution_count": 21,
   "id": "685149f5-c8f1-47e0-9d55-876889ddde4c",
   "metadata": {},
   "outputs": [
    {
     "name": "stdout",
     "output_type": "stream",
     "text": [
      "Opened https://modulocomprascorporativas.compraspublicas.gob.ec/ProcesoContratacion/compras/PC/informacionProcesoContratacion2.cpe?idSoliCompra=sYGKiTOfi3-2fidlUlOo7NS2Mgo1N4dUp4ykQgAgAB0,\n",
      "Opened https://modulocomprascorporativas.compraspublicas.gob.ec/ProcesoContratacion/compras/PC/informacionProcesoContratacion2.cpe?idSoliCompra=EaJoskjrKPCuPrY28o5hIqH9Jw8Q4pkzjy1yIRUHJlY,\n",
      "Opened https://modulocomprascorporativas.compraspublicas.gob.ec/ProcesoContratacion/compras/PC/informacionProcesoContratacion2.cpe?idSoliCompra=WnuJVj3pOndLJ9TQSzyZjkBss5yNF01saKGCPm19VPo,\n",
      "Opened https://modulocomprascorporativas.compraspublicas.gob.ec/ProcesoContratacion/compras/PC/informacionProcesoContratacion2.cpe?idSoliCompra=lZrxpKzL_foohBV8gJiKE17mLtqxZCIreHjMITfpaW8,\n",
      "Opened https://modulocomprascorporativas.compraspublicas.gob.ec/ProcesoContratacion/compras/PC/informacionProcesoContratacion2.cpe?idSoliCompra=_p6DurhkH1egyPGIh-7TwPsgzfK7Pm86HnTKVzwKa6Q,\n",
      "Opened https://modulocomprascorporativas.compraspublicas.gob.ec/ProcesoContratacion/compras/PC/informacionProcesoContratacion2.cpe?idSoliCompra=2zHEVsAwAVjuz8ZJKKS7lgp7pnJ_8JNm37jNVNnfKH4,\n",
      "Opened https://modulocomprascorporativas.compraspublicas.gob.ec/ProcesoContratacion/compras/PC/informacionProcesoContratacion2.cpe?idSoliCompra=5b_F4Jm7gPG-O-ivLA18vfRRu0HINasSVxn0oRKHMJ0,\n",
      "Opened https://modulocomprascorporativas.compraspublicas.gob.ec/ProcesoContratacion/compras/PC/informacionProcesoContratacion2.cpe?idSoliCompra=8hELZ3zZ2zuPgDLzVmUuW67l7HLC5YEPxgUYyeBSqeg,\n",
      "Opened https://modulocomprascorporativas.compraspublicas.gob.ec/ProcesoContratacion/compras/PC/informacionProcesoContratacion2.cpe?idSoliCompra=1QN62fI028kfxtmCizmqIkmzEuR9a5CvBBXnaE8JXTc,\n",
      "Opened https://modulocomprascorporativas.compraspublicas.gob.ec/ProcesoContratacion/compras/PC/informacionProcesoContratacion2.cpe?idSoliCompra=Kb83Lf1cv5aD7rmRSjH5dqW66ZO97Et6AS8wdv8rKU0,\n",
      "Opened 10 tabs. You can check them now.\n"
     ]
    }
   ],
   "source": [
    "context = await browser.new_context()\n",
    "\n",
    "sample_urls = adjudicados[adjudicados[\"contrato\"] == \"NO\"][\"detalle_url\"].sample(10).tolist()\n",
    "\n",
    "pages = []\n",
    "\n",
    "for url in sample_urls:\n",
    "    page = await context.new_page()\n",
    "    await page.goto(url)\n",
    "    pages.append(page)\n",
    "    print(f\"Opened {url}\")\n",
    "\n",
    "print(f\"Opened {len(pages)} tabs. You can check them now.\")\n",
    "\n",
    "await asyncio.sleep(120)"
   ]
  },
  {
   "cell_type": "code",
   "execution_count": 22,
   "id": "88f5e846-9981-44c1-af02-2746e99cb20d",
   "metadata": {},
   "outputs": [
    {
     "name": "stdout",
     "output_type": "stream",
     "text": [
      "Processing index: 106, https://modulocomprascorporativas.compraspublicas.gob.ec/ProcesoContratacion/compras/PC/informacionProcesoContratacion2.cpe?idSoliCompra=4Lqpmu2fCeOpDLalJJ0-PiKmGuOjwRb1hfoPvWKW6Bo,Error at index 106, https://modulocomprascorporativas.compraspublicas.gob.ec/ProcesoContratacion/compras/PC/informacionProcesoContratacion2.cpe?idSoliCompra=4Lqpmu2fCeOpDLalJJ0-PiKmGuOjwRb1hfoPvWKW6Bo,\n",
      "Processing index: 171, https://modulocomprascorporativas.compraspublicas.gob.ec/ProcesoContratacion/compras/PC/informacionProcesoContratacion2.cpe?idSoliCompra=XL-R5oQOu9WpKFqWAsDVUJqeMs4Z67Y4FROPjacY9Mc,Error at index 171, https://modulocomprascorporativas.compraspublicas.gob.ec/ProcesoContratacion/compras/PC/informacionProcesoContratacion2.cpe?idSoliCompra=XL-R5oQOu9WpKFqWAsDVUJqeMs4Z67Y4FROPjacY9Mc,\n",
      "Processing index: 407, https://modulocomprascorporativas.compraspublicas.gob.ec/ProcesoContratacion/compras/PC/informacionProcesoContratacion2.cpe?idSoliCompra=2zHEVsAwAVjuz8ZJKKS7lgp7pnJ_8JNm37jNVNnfKH4,Error at index 407, https://modulocomprascorporativas.compraspublicas.gob.ec/ProcesoContratacion/compras/PC/informacionProcesoContratacion2.cpe?idSoliCompra=2zHEVsAwAVjuz8ZJKKS7lgp7pnJ_8JNm37jNVNnfKH4,\n",
      "Processing index: 411, https://modulocomprascorporativas.compraspublicas.gob.ec/ProcesoContratacion/compras/PC/informacionProcesoContratacion2.cpe?idSoliCompra=nW3e5q1dfkXGKenYA3NULmCsTRkFXMas085_juHlkT8,Error at index 411, https://modulocomprascorporativas.compraspublicas.gob.ec/ProcesoContratacion/compras/PC/informacionProcesoContratacion2.cpe?idSoliCompra=nW3e5q1dfkXGKenYA3NULmCsTRkFXMas085_juHlkT8,\n"
     ]
    }
   ],
   "source": [
    "#Now let's correct and loop thru the 44 with no contracts\n",
    "for i, row in adjudicados[adjudicados[\"contrato\"] == \"NO\"].iterrows():\n",
    "    \n",
    "    url = row[\"detalle_url\"]\n",
    "    code = row[\"codigo\"]\n",
    "\n",
    "    filename = f\"{code}.pdf\"\n",
    "    save_path = f\"convenios/{filename}\"\n",
    "\n",
    "    await asyncio.sleep(1)\n",
    "    print(f\"\\rProcessing index: {i}, {url}\", end=\"\")\n",
    "        \n",
    "    await page.goto(url, timeout=10000)\n",
    "    await asyncio.sleep(2)\n",
    "            \n",
    "    await page.wait_for_selector(\"#tab4\", state=\"visible\", timeout=10000)\n",
    "    await page.eval_on_selector(\"#tab4\", \"el => el.click()\")\n",
    "    await asyncio.sleep(1)\n",
    "    \n",
    "    html = await page.content()\n",
    "    soup = BeautifulSoup(html, \"lxml\")\n",
    "\n",
    "    try:\n",
    "        download_link_locator = page.locator(\n",
    "            \"//tr[starts-with(translate(normalize-space(td[1]), 'ABCDEFGHIJKLMNOPQRSTUVWXYZ', 'abcdefghijklmnopqrstuvwxyz'), 'convenio marco')]//a[contains(@href, 'bajarArchivo.cpe')]\"\n",
    "        )\n",
    "        assert await download_link_locator.count() == 1, \"Expected exactly one CONVENIO MARCO link.\"\n",
    "        \n",
    "        async with page.expect_download() as download_info:\n",
    "            await download_link_locator.click()\n",
    "\n",
    "        download = await download_info.value\n",
    "        await download.save_as(save_path)\n",
    "\n",
    "        adjudicados.at[i, \"contrato\"] = \"SI\"\n",
    "    \n",
    "    except:\n",
    "        print(f\"Error at index {i}, {url}\")\n",
    "        adjudicados.at[i, \"contrato\"] = \"NO\""
   ]
  },
  {
   "cell_type": "code",
   "execution_count": 23,
   "id": "e732b468-4e08-4d23-b1f4-c20c719cccc6",
   "metadata": {},
   "outputs": [
    {
     "data": {
      "text/plain": [
       "4"
      ]
     },
     "execution_count": 23,
     "metadata": {},
     "output_type": "execute_result"
    }
   ],
   "source": [
    "len(adjudicados[adjudicados[\"contrato\"] == \"NO\"])"
   ]
  },
  {
   "cell_type": "code",
   "execution_count": 27,
   "id": "f3b6ec50-eaec-4923-bde0-5371a56a470a",
   "metadata": {},
   "outputs": [],
   "source": [
    "adjudicados.to_csv(\"data/process/adjudicados_contratos.csv\", index=False)"
   ]
  },
  {
   "cell_type": "code",
   "execution_count": 28,
   "id": "92f09ebf-1c64-4011-8483-ea0a017e3825",
   "metadata": {},
   "outputs": [
    {
     "name": "stdout",
     "output_type": "stream",
     "text": [
      "Opened https://modulocomprascorporativas.compraspublicas.gob.ec/ProcesoContratacion/compras/PC/informacionProcesoContratacion2.cpe?idSoliCompra=4Lqpmu2fCeOpDLalJJ0-PiKmGuOjwRb1hfoPvWKW6Bo,\n",
      "Opened https://modulocomprascorporativas.compraspublicas.gob.ec/ProcesoContratacion/compras/PC/informacionProcesoContratacion2.cpe?idSoliCompra=XL-R5oQOu9WpKFqWAsDVUJqeMs4Z67Y4FROPjacY9Mc,\n",
      "Opened https://modulocomprascorporativas.compraspublicas.gob.ec/ProcesoContratacion/compras/PC/informacionProcesoContratacion2.cpe?idSoliCompra=2zHEVsAwAVjuz8ZJKKS7lgp7pnJ_8JNm37jNVNnfKH4,\n",
      "Opened https://modulocomprascorporativas.compraspublicas.gob.ec/ProcesoContratacion/compras/PC/informacionProcesoContratacion2.cpe?idSoliCompra=nW3e5q1dfkXGKenYA3NULmCsTRkFXMas085_juHlkT8,\n",
      "Opened 4 tabs. You can check them now.\n"
     ]
    }
   ],
   "source": [
    "context = await browser.new_context()\n",
    "\n",
    "sample_urls = adjudicados[adjudicados[\"contrato\"] == \"NO\"][\"detalle_url\"].tolist()\n",
    "\n",
    "pages = []\n",
    "\n",
    "for url in sample_urls:\n",
    "    page = await context.new_page()\n",
    "    await page.goto(url)\n",
    "    pages.append(page)\n",
    "    print(f\"Opened {url}\")\n",
    "\n",
    "print(f\"Opened {len(pages)} tabs. You can check them now.\")\n",
    "\n",
    "await asyncio.sleep(120)"
   ]
  },
  {
   "cell_type": "code",
   "execution_count": 30,
   "id": "5688c71c-56c8-499c-8586-b913bb1b7cf3",
   "metadata": {},
   "outputs": [],
   "source": [
    "playwright = await browser.close()"
   ]
  },
  {
   "cell_type": "code",
   "execution_count": null,
   "id": "5f97e636-a0f7-475b-958a-536b7817255d",
   "metadata": {},
   "outputs": [],
   "source": []
  }
 ],
 "metadata": {
  "kernelspec": {
   "display_name": "Python 3 (ipykernel)",
   "language": "python",
   "name": "python3"
  },
  "language_info": {
   "codemirror_mode": {
    "name": "ipython",
    "version": 3
   },
   "file_extension": ".py",
   "mimetype": "text/x-python",
   "name": "python",
   "nbconvert_exporter": "python",
   "pygments_lexer": "ipython3",
   "version": "3.12.10"
  }
 },
 "nbformat": 4,
 "nbformat_minor": 5
}
